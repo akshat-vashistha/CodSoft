{
 "cells": [
  {
   "cell_type": "code",
   "execution_count": 1,
   "id": "47208d7d",
   "metadata": {
    "_cell_guid": "b1076dfc-b9ad-4769-8c92-a6c4dae69d19",
    "_uuid": "8f2839f25d086af736a60e9eeb907d3b93b6e0e5",
    "execution": {
     "iopub.execute_input": "2023-08-23T08:06:50.176046Z",
     "iopub.status.busy": "2023-08-23T08:06:50.174958Z",
     "iopub.status.idle": "2023-08-23T08:06:50.197829Z",
     "shell.execute_reply": "2023-08-23T08:06:50.196356Z"
    },
    "papermill": {
     "duration": 0.052778,
     "end_time": "2023-08-23T08:06:50.200119",
     "exception": false,
     "start_time": "2023-08-23T08:06:50.147341",
     "status": "completed"
    },
    "tags": []
   },
   "outputs": [
    {
     "name": "stdout",
     "output_type": "stream",
     "text": [
      "/kaggle/input/sms-spam-collection-dataset/spam.csv\n"
     ]
    }
   ],
   "source": [
    "#Codsoft intern : Pawan Lahoti\n",
    "#Machine Learning \n",
    "#import all the libraries\n",
    "import numpy as np \n",
    "import pandas as pd \n",
    "import os\n",
    "for dirname, _, filenames in os.walk('/kaggle/input'):\n",
    "    for filename in filenames:\n",
    "        print(os.path.join(dirname, filename))"
   ]
  },
  {
   "cell_type": "code",
   "execution_count": 2,
   "id": "aa1cafe9",
   "metadata": {
    "execution": {
     "iopub.execute_input": "2023-08-23T08:06:50.252000Z",
     "iopub.status.busy": "2023-08-23T08:06:50.251647Z",
     "iopub.status.idle": "2023-08-23T08:06:50.303181Z",
     "shell.execute_reply": "2023-08-23T08:06:50.302053Z"
    },
    "papermill": {
     "duration": 0.080162,
     "end_time": "2023-08-23T08:06:50.305715",
     "exception": false,
     "start_time": "2023-08-23T08:06:50.225553",
     "status": "completed"
    },
    "tags": []
   },
   "outputs": [
    {
     "data": {
      "text/html": [
       "<div>\n",
       "<style scoped>\n",
       "    .dataframe tbody tr th:only-of-type {\n",
       "        vertical-align: middle;\n",
       "    }\n",
       "\n",
       "    .dataframe tbody tr th {\n",
       "        vertical-align: top;\n",
       "    }\n",
       "\n",
       "    .dataframe thead th {\n",
       "        text-align: right;\n",
       "    }\n",
       "</style>\n",
       "<table border=\"1\" class=\"dataframe\">\n",
       "  <thead>\n",
       "    <tr style=\"text-align: right;\">\n",
       "      <th></th>\n",
       "      <th>v1</th>\n",
       "      <th>v2</th>\n",
       "      <th>Unnamed: 2</th>\n",
       "      <th>Unnamed: 3</th>\n",
       "      <th>Unnamed: 4</th>\n",
       "    </tr>\n",
       "  </thead>\n",
       "  <tbody>\n",
       "    <tr>\n",
       "      <th>0</th>\n",
       "      <td>ham</td>\n",
       "      <td>Go until jurong point, crazy.. Available only ...</td>\n",
       "      <td>NaN</td>\n",
       "      <td>NaN</td>\n",
       "      <td>NaN</td>\n",
       "    </tr>\n",
       "    <tr>\n",
       "      <th>1</th>\n",
       "      <td>ham</td>\n",
       "      <td>Ok lar... Joking wif u oni...</td>\n",
       "      <td>NaN</td>\n",
       "      <td>NaN</td>\n",
       "      <td>NaN</td>\n",
       "    </tr>\n",
       "    <tr>\n",
       "      <th>2</th>\n",
       "      <td>spam</td>\n",
       "      <td>Free entry in 2 a wkly comp to win FA Cup fina...</td>\n",
       "      <td>NaN</td>\n",
       "      <td>NaN</td>\n",
       "      <td>NaN</td>\n",
       "    </tr>\n",
       "    <tr>\n",
       "      <th>3</th>\n",
       "      <td>ham</td>\n",
       "      <td>U dun say so early hor... U c already then say...</td>\n",
       "      <td>NaN</td>\n",
       "      <td>NaN</td>\n",
       "      <td>NaN</td>\n",
       "    </tr>\n",
       "    <tr>\n",
       "      <th>4</th>\n",
       "      <td>ham</td>\n",
       "      <td>Nah I don't think he goes to usf, he lives aro...</td>\n",
       "      <td>NaN</td>\n",
       "      <td>NaN</td>\n",
       "      <td>NaN</td>\n",
       "    </tr>\n",
       "  </tbody>\n",
       "</table>\n",
       "</div>"
      ],
      "text/plain": [
       "     v1                                                 v2 Unnamed: 2  \\\n",
       "0   ham  Go until jurong point, crazy.. Available only ...        NaN   \n",
       "1   ham                      Ok lar... Joking wif u oni...        NaN   \n",
       "2  spam  Free entry in 2 a wkly comp to win FA Cup fina...        NaN   \n",
       "3   ham  U dun say so early hor... U c already then say...        NaN   \n",
       "4   ham  Nah I don't think he goes to usf, he lives aro...        NaN   \n",
       "\n",
       "  Unnamed: 3 Unnamed: 4  \n",
       "0        NaN        NaN  \n",
       "1        NaN        NaN  \n",
       "2        NaN        NaN  \n",
       "3        NaN        NaN  \n",
       "4        NaN        NaN  "
      ]
     },
     "execution_count": 2,
     "metadata": {},
     "output_type": "execute_result"
    }
   ],
   "source": [
    "#Load the CSV file\n",
    "df = pd.read_csv('/kaggle/input/sms-spam-collection-dataset/spam.csv',delimiter=',',encoding='latin-1')\n",
    "df.head()\n"
   ]
  },
  {
   "cell_type": "code",
   "execution_count": 3,
   "id": "5f2df1d4",
   "metadata": {
    "execution": {
     "iopub.execute_input": "2023-08-23T08:06:50.358844Z",
     "iopub.status.busy": "2023-08-23T08:06:50.358422Z",
     "iopub.status.idle": "2023-08-23T08:06:50.388687Z",
     "shell.execute_reply": "2023-08-23T08:06:50.387412Z"
    },
    "papermill": {
     "duration": 0.060006,
     "end_time": "2023-08-23T08:06:50.390711",
     "exception": false,
     "start_time": "2023-08-23T08:06:50.330705",
     "status": "completed"
    },
    "tags": []
   },
   "outputs": [
    {
     "name": "stdout",
     "output_type": "stream",
     "text": [
      "<class 'pandas.core.frame.DataFrame'>\n",
      "RangeIndex: 5572 entries, 0 to 5571\n",
      "Data columns (total 5 columns):\n",
      " #   Column      Non-Null Count  Dtype \n",
      "---  ------      --------------  ----- \n",
      " 0   v1          5572 non-null   object\n",
      " 1   v2          5572 non-null   object\n",
      " 2   Unnamed: 2  50 non-null     object\n",
      " 3   Unnamed: 3  12 non-null     object\n",
      " 4   Unnamed: 4  6 non-null      object\n",
      "dtypes: object(5)\n",
      "memory usage: 217.8+ KB\n"
     ]
    }
   ],
   "source": [
    "df.info()"
   ]
  },
  {
   "cell_type": "code",
   "execution_count": 4,
   "id": "479ab428",
   "metadata": {
    "execution": {
     "iopub.execute_input": "2023-08-23T08:06:50.443116Z",
     "iopub.status.busy": "2023-08-23T08:06:50.442345Z",
     "iopub.status.idle": "2023-08-23T08:06:50.449227Z",
     "shell.execute_reply": "2023-08-23T08:06:50.448173Z"
    },
    "papermill": {
     "duration": 0.035333,
     "end_time": "2023-08-23T08:06:50.451418",
     "exception": false,
     "start_time": "2023-08-23T08:06:50.416085",
     "status": "completed"
    },
    "tags": []
   },
   "outputs": [],
   "source": [
    "df.drop(['Unnamed: 2','Unnamed: 3','Unnamed: 4'],axis=1, inplace=True)"
   ]
  },
  {
   "cell_type": "code",
   "execution_count": 5,
   "id": "cf62ec21",
   "metadata": {
    "execution": {
     "iopub.execute_input": "2023-08-23T08:06:50.502778Z",
     "iopub.status.busy": "2023-08-23T08:06:50.502444Z",
     "iopub.status.idle": "2023-08-23T08:06:50.514700Z",
     "shell.execute_reply": "2023-08-23T08:06:50.513653Z"
    },
    "papermill": {
     "duration": 0.040372,
     "end_time": "2023-08-23T08:06:50.516868",
     "exception": false,
     "start_time": "2023-08-23T08:06:50.476496",
     "status": "completed"
    },
    "tags": []
   },
   "outputs": [
    {
     "data": {
      "text/html": [
       "<div>\n",
       "<style scoped>\n",
       "    .dataframe tbody tr th:only-of-type {\n",
       "        vertical-align: middle;\n",
       "    }\n",
       "\n",
       "    .dataframe tbody tr th {\n",
       "        vertical-align: top;\n",
       "    }\n",
       "\n",
       "    .dataframe thead th {\n",
       "        text-align: right;\n",
       "    }\n",
       "</style>\n",
       "<table border=\"1\" class=\"dataframe\">\n",
       "  <thead>\n",
       "    <tr style=\"text-align: right;\">\n",
       "      <th></th>\n",
       "      <th>v1</th>\n",
       "      <th>v2</th>\n",
       "    </tr>\n",
       "  </thead>\n",
       "  <tbody>\n",
       "    <tr>\n",
       "      <th>0</th>\n",
       "      <td>ham</td>\n",
       "      <td>Go until jurong point, crazy.. Available only ...</td>\n",
       "    </tr>\n",
       "    <tr>\n",
       "      <th>1</th>\n",
       "      <td>ham</td>\n",
       "      <td>Ok lar... Joking wif u oni...</td>\n",
       "    </tr>\n",
       "    <tr>\n",
       "      <th>2</th>\n",
       "      <td>spam</td>\n",
       "      <td>Free entry in 2 a wkly comp to win FA Cup fina...</td>\n",
       "    </tr>\n",
       "    <tr>\n",
       "      <th>3</th>\n",
       "      <td>ham</td>\n",
       "      <td>U dun say so early hor... U c already then say...</td>\n",
       "    </tr>\n",
       "    <tr>\n",
       "      <th>4</th>\n",
       "      <td>ham</td>\n",
       "      <td>Nah I don't think he goes to usf, he lives aro...</td>\n",
       "    </tr>\n",
       "    <tr>\n",
       "      <th>...</th>\n",
       "      <td>...</td>\n",
       "      <td>...</td>\n",
       "    </tr>\n",
       "    <tr>\n",
       "      <th>5567</th>\n",
       "      <td>spam</td>\n",
       "      <td>This is the 2nd time we have tried 2 contact u...</td>\n",
       "    </tr>\n",
       "    <tr>\n",
       "      <th>5568</th>\n",
       "      <td>ham</td>\n",
       "      <td>Will Ì_ b going to esplanade fr home?</td>\n",
       "    </tr>\n",
       "    <tr>\n",
       "      <th>5569</th>\n",
       "      <td>ham</td>\n",
       "      <td>Pity, * was in mood for that. So...any other s...</td>\n",
       "    </tr>\n",
       "    <tr>\n",
       "      <th>5570</th>\n",
       "      <td>ham</td>\n",
       "      <td>The guy did some bitching but I acted like i'd...</td>\n",
       "    </tr>\n",
       "    <tr>\n",
       "      <th>5571</th>\n",
       "      <td>ham</td>\n",
       "      <td>Rofl. Its true to its name</td>\n",
       "    </tr>\n",
       "  </tbody>\n",
       "</table>\n",
       "<p>5572 rows × 2 columns</p>\n",
       "</div>"
      ],
      "text/plain": [
       "        v1                                                 v2\n",
       "0      ham  Go until jurong point, crazy.. Available only ...\n",
       "1      ham                      Ok lar... Joking wif u oni...\n",
       "2     spam  Free entry in 2 a wkly comp to win FA Cup fina...\n",
       "3      ham  U dun say so early hor... U c already then say...\n",
       "4      ham  Nah I don't think he goes to usf, he lives aro...\n",
       "...    ...                                                ...\n",
       "5567  spam  This is the 2nd time we have tried 2 contact u...\n",
       "5568   ham              Will Ì_ b going to esplanade fr home?\n",
       "5569   ham  Pity, * was in mood for that. So...any other s...\n",
       "5570   ham  The guy did some bitching but I acted like i'd...\n",
       "5571   ham                         Rofl. Its true to its name\n",
       "\n",
       "[5572 rows x 2 columns]"
      ]
     },
     "execution_count": 5,
     "metadata": {},
     "output_type": "execute_result"
    }
   ],
   "source": [
    "df"
   ]
  },
  {
   "cell_type": "code",
   "execution_count": 6,
   "id": "69be4c99",
   "metadata": {
    "execution": {
     "iopub.execute_input": "2023-08-23T08:06:50.569811Z",
     "iopub.status.busy": "2023-08-23T08:06:50.569441Z",
     "iopub.status.idle": "2023-08-23T08:06:50.579384Z",
     "shell.execute_reply": "2023-08-23T08:06:50.578455Z"
    },
    "papermill": {
     "duration": 0.039035,
     "end_time": "2023-08-23T08:06:50.581685",
     "exception": false,
     "start_time": "2023-08-23T08:06:50.542650",
     "status": "completed"
    },
    "tags": []
   },
   "outputs": [
    {
     "data": {
      "text/html": [
       "<div>\n",
       "<style scoped>\n",
       "    .dataframe tbody tr th:only-of-type {\n",
       "        vertical-align: middle;\n",
       "    }\n",
       "\n",
       "    .dataframe tbody tr th {\n",
       "        vertical-align: top;\n",
       "    }\n",
       "\n",
       "    .dataframe thead th {\n",
       "        text-align: right;\n",
       "    }\n",
       "</style>\n",
       "<table border=\"1\" class=\"dataframe\">\n",
       "  <thead>\n",
       "    <tr style=\"text-align: right;\">\n",
       "      <th></th>\n",
       "      <th>v1</th>\n",
       "      <th>v2</th>\n",
       "    </tr>\n",
       "  </thead>\n",
       "  <tbody>\n",
       "    <tr>\n",
       "      <th>4363</th>\n",
       "      <td>ham</td>\n",
       "      <td>So what about you. What do you remember</td>\n",
       "    </tr>\n",
       "    <tr>\n",
       "      <th>2146</th>\n",
       "      <td>ham</td>\n",
       "      <td>So can collect ur laptop?</td>\n",
       "    </tr>\n",
       "    <tr>\n",
       "      <th>4009</th>\n",
       "      <td>spam</td>\n",
       "      <td>Wan2 win a Meet+Greet with Westlife 4 U or a m...</td>\n",
       "    </tr>\n",
       "    <tr>\n",
       "      <th>3414</th>\n",
       "      <td>ham</td>\n",
       "      <td>He remains a bro amongst bros</td>\n",
       "    </tr>\n",
       "    <tr>\n",
       "      <th>2946</th>\n",
       "      <td>ham</td>\n",
       "      <td>Leave it. U will always be ignorant.</td>\n",
       "    </tr>\n",
       "  </tbody>\n",
       "</table>\n",
       "</div>"
      ],
      "text/plain": [
       "        v1                                                 v2\n",
       "4363   ham            So what about you. What do you remember\n",
       "2146   ham                          So can collect ur laptop?\n",
       "4009  spam  Wan2 win a Meet+Greet with Westlife 4 U or a m...\n",
       "3414   ham                      He remains a bro amongst bros\n",
       "2946   ham               Leave it. U will always be ignorant."
      ]
     },
     "execution_count": 6,
     "metadata": {},
     "output_type": "execute_result"
    }
   ],
   "source": [
    "df.sample(5)"
   ]
  },
  {
   "cell_type": "code",
   "execution_count": 7,
   "id": "aced7903",
   "metadata": {
    "execution": {
     "iopub.execute_input": "2023-08-23T08:06:50.634387Z",
     "iopub.status.busy": "2023-08-23T08:06:50.633971Z",
     "iopub.status.idle": "2023-08-23T08:06:50.646966Z",
     "shell.execute_reply": "2023-08-23T08:06:50.645915Z"
    },
    "papermill": {
     "duration": 0.041682,
     "end_time": "2023-08-23T08:06:50.649348",
     "exception": false,
     "start_time": "2023-08-23T08:06:50.607666",
     "status": "completed"
    },
    "tags": []
   },
   "outputs": [
    {
     "data": {
      "text/plain": [
       "v1    0\n",
       "v2    0\n",
       "dtype: int64"
      ]
     },
     "execution_count": 7,
     "metadata": {},
     "output_type": "execute_result"
    }
   ],
   "source": [
    "df.isnull().sum()"
   ]
  },
  {
   "cell_type": "code",
   "execution_count": 8,
   "id": "54af92c8",
   "metadata": {
    "execution": {
     "iopub.execute_input": "2023-08-23T08:06:50.706467Z",
     "iopub.status.busy": "2023-08-23T08:06:50.705640Z",
     "iopub.status.idle": "2023-08-23T08:06:50.718069Z",
     "shell.execute_reply": "2023-08-23T08:06:50.717163Z"
    },
    "papermill": {
     "duration": 0.043263,
     "end_time": "2023-08-23T08:06:50.720261",
     "exception": false,
     "start_time": "2023-08-23T08:06:50.676998",
     "status": "completed"
    },
    "tags": []
   },
   "outputs": [
    {
     "data": {
      "text/plain": [
       "403"
      ]
     },
     "execution_count": 8,
     "metadata": {},
     "output_type": "execute_result"
    }
   ],
   "source": [
    "df.duplicated().sum()"
   ]
  },
  {
   "cell_type": "code",
   "execution_count": 9,
   "id": "b1458a28",
   "metadata": {
    "execution": {
     "iopub.execute_input": "2023-08-23T08:06:50.776669Z",
     "iopub.status.busy": "2023-08-23T08:06:50.775929Z",
     "iopub.status.idle": "2023-08-23T08:06:50.784977Z",
     "shell.execute_reply": "2023-08-23T08:06:50.784159Z"
    },
    "papermill": {
     "duration": 0.03992,
     "end_time": "2023-08-23T08:06:50.787242",
     "exception": false,
     "start_time": "2023-08-23T08:06:50.747322",
     "status": "completed"
    },
    "tags": []
   },
   "outputs": [],
   "source": [
    "df.drop_duplicates(keep='first', inplace=True)"
   ]
  },
  {
   "cell_type": "code",
   "execution_count": 10,
   "id": "1626e655",
   "metadata": {
    "execution": {
     "iopub.execute_input": "2023-08-23T08:06:50.841705Z",
     "iopub.status.busy": "2023-08-23T08:06:50.840968Z",
     "iopub.status.idle": "2023-08-23T08:06:50.850809Z",
     "shell.execute_reply": "2023-08-23T08:06:50.850042Z"
    },
    "papermill": {
     "duration": 0.039229,
     "end_time": "2023-08-23T08:06:50.852852",
     "exception": false,
     "start_time": "2023-08-23T08:06:50.813623",
     "status": "completed"
    },
    "tags": []
   },
   "outputs": [
    {
     "data": {
      "text/plain": [
       "0"
      ]
     },
     "execution_count": 10,
     "metadata": {},
     "output_type": "execute_result"
    }
   ],
   "source": [
    "df.duplicated().sum()"
   ]
  },
  {
   "cell_type": "code",
   "execution_count": 11,
   "id": "5479c680",
   "metadata": {
    "execution": {
     "iopub.execute_input": "2023-08-23T08:06:50.908674Z",
     "iopub.status.busy": "2023-08-23T08:06:50.908288Z",
     "iopub.status.idle": "2023-08-23T08:06:50.913542Z",
     "shell.execute_reply": "2023-08-23T08:06:50.912836Z"
    },
    "papermill": {
     "duration": 0.035003,
     "end_time": "2023-08-23T08:06:50.915461",
     "exception": false,
     "start_time": "2023-08-23T08:06:50.880458",
     "status": "completed"
    },
    "tags": []
   },
   "outputs": [
    {
     "data": {
      "text/plain": [
       "(5169, 2)"
      ]
     },
     "execution_count": 11,
     "metadata": {},
     "output_type": "execute_result"
    }
   ],
   "source": [
    "df.shape"
   ]
  },
  {
   "cell_type": "code",
   "execution_count": 12,
   "id": "18ed2593",
   "metadata": {
    "execution": {
     "iopub.execute_input": "2023-08-23T08:06:50.968225Z",
     "iopub.status.busy": "2023-08-23T08:06:50.967573Z",
     "iopub.status.idle": "2023-08-23T08:06:50.977402Z",
     "shell.execute_reply": "2023-08-23T08:06:50.976391Z"
    },
    "papermill": {
     "duration": 0.038457,
     "end_time": "2023-08-23T08:06:50.979550",
     "exception": false,
     "start_time": "2023-08-23T08:06:50.941093",
     "status": "completed"
    },
    "tags": []
   },
   "outputs": [
    {
     "data": {
      "text/html": [
       "<div>\n",
       "<style scoped>\n",
       "    .dataframe tbody tr th:only-of-type {\n",
       "        vertical-align: middle;\n",
       "    }\n",
       "\n",
       "    .dataframe tbody tr th {\n",
       "        vertical-align: top;\n",
       "    }\n",
       "\n",
       "    .dataframe thead th {\n",
       "        text-align: right;\n",
       "    }\n",
       "</style>\n",
       "<table border=\"1\" class=\"dataframe\">\n",
       "  <thead>\n",
       "    <tr style=\"text-align: right;\">\n",
       "      <th></th>\n",
       "      <th>v1</th>\n",
       "      <th>v2</th>\n",
       "    </tr>\n",
       "  </thead>\n",
       "  <tbody>\n",
       "    <tr>\n",
       "      <th>1939</th>\n",
       "      <td>spam</td>\n",
       "      <td>More people are dogging in your area now. Call...</td>\n",
       "    </tr>\n",
       "    <tr>\n",
       "      <th>348</th>\n",
       "      <td>spam</td>\n",
       "      <td>Fancy a shag? I do.Interested? sextextuk.com t...</td>\n",
       "    </tr>\n",
       "    <tr>\n",
       "      <th>1397</th>\n",
       "      <td>ham</td>\n",
       "      <td>Then we wait 4 u lor... No need 2 feel bad lar...</td>\n",
       "    </tr>\n",
       "    <tr>\n",
       "      <th>2911</th>\n",
       "      <td>ham</td>\n",
       "      <td>You didn't have to tell me that...now i'm thin...</td>\n",
       "    </tr>\n",
       "    <tr>\n",
       "      <th>754</th>\n",
       "      <td>ham</td>\n",
       "      <td>Realy sorry-i don't recognise this number and ...</td>\n",
       "    </tr>\n",
       "  </tbody>\n",
       "</table>\n",
       "</div>"
      ],
      "text/plain": [
       "        v1                                                 v2\n",
       "1939  spam  More people are dogging in your area now. Call...\n",
       "348   spam  Fancy a shag? I do.Interested? sextextuk.com t...\n",
       "1397   ham  Then we wait 4 u lor... No need 2 feel bad lar...\n",
       "2911   ham  You didn't have to tell me that...now i'm thin...\n",
       "754    ham  Realy sorry-i don't recognise this number and ..."
      ]
     },
     "execution_count": 12,
     "metadata": {},
     "output_type": "execute_result"
    }
   ],
   "source": [
    "df.sample(5)"
   ]
  },
  {
   "cell_type": "code",
   "execution_count": 13,
   "id": "35ec20aa",
   "metadata": {
    "execution": {
     "iopub.execute_input": "2023-08-23T08:06:51.035002Z",
     "iopub.status.busy": "2023-08-23T08:06:51.034406Z",
     "iopub.status.idle": "2023-08-23T08:06:51.039536Z",
     "shell.execute_reply": "2023-08-23T08:06:51.038858Z"
    },
    "papermill": {
     "duration": 0.035157,
     "end_time": "2023-08-23T08:06:51.041430",
     "exception": false,
     "start_time": "2023-08-23T08:06:51.006273",
     "status": "completed"
    },
    "tags": []
   },
   "outputs": [],
   "source": [
    "df.rename(columns={'v1':'target', 'v2':'text'}, inplace=True)"
   ]
  },
  {
   "cell_type": "code",
   "execution_count": 14,
   "id": "b0ed5b18",
   "metadata": {
    "execution": {
     "iopub.execute_input": "2023-08-23T08:06:51.097603Z",
     "iopub.status.busy": "2023-08-23T08:06:51.096959Z",
     "iopub.status.idle": "2023-08-23T08:06:51.106084Z",
     "shell.execute_reply": "2023-08-23T08:06:51.105349Z"
    },
    "papermill": {
     "duration": 0.03969,
     "end_time": "2023-08-23T08:06:51.108040",
     "exception": false,
     "start_time": "2023-08-23T08:06:51.068350",
     "status": "completed"
    },
    "tags": []
   },
   "outputs": [
    {
     "data": {
      "text/html": [
       "<div>\n",
       "<style scoped>\n",
       "    .dataframe tbody tr th:only-of-type {\n",
       "        vertical-align: middle;\n",
       "    }\n",
       "\n",
       "    .dataframe tbody tr th {\n",
       "        vertical-align: top;\n",
       "    }\n",
       "\n",
       "    .dataframe thead th {\n",
       "        text-align: right;\n",
       "    }\n",
       "</style>\n",
       "<table border=\"1\" class=\"dataframe\">\n",
       "  <thead>\n",
       "    <tr style=\"text-align: right;\">\n",
       "      <th></th>\n",
       "      <th>target</th>\n",
       "      <th>text</th>\n",
       "    </tr>\n",
       "  </thead>\n",
       "  <tbody>\n",
       "    <tr>\n",
       "      <th>5541</th>\n",
       "      <td>ham</td>\n",
       "      <td>Yeah it's jus rite...</td>\n",
       "    </tr>\n",
       "    <tr>\n",
       "      <th>4259</th>\n",
       "      <td>ham</td>\n",
       "      <td>Are you plans with your family set in stone ?</td>\n",
       "    </tr>\n",
       "    <tr>\n",
       "      <th>4202</th>\n",
       "      <td>ham</td>\n",
       "      <td>C movie is juz last minute decision mah. Juz w...</td>\n",
       "    </tr>\n",
       "    <tr>\n",
       "      <th>1112</th>\n",
       "      <td>ham</td>\n",
       "      <td>So that means you still think of teju</td>\n",
       "    </tr>\n",
       "    <tr>\n",
       "      <th>4397</th>\n",
       "      <td>ham</td>\n",
       "      <td>Can you tell Shola to please go to college of ...</td>\n",
       "    </tr>\n",
       "  </tbody>\n",
       "</table>\n",
       "</div>"
      ],
      "text/plain": [
       "     target                                               text\n",
       "5541    ham                              Yeah it's jus rite...\n",
       "4259    ham      Are you plans with your family set in stone ?\n",
       "4202    ham  C movie is juz last minute decision mah. Juz w...\n",
       "1112    ham              So that means you still think of teju\n",
       "4397    ham  Can you tell Shola to please go to college of ..."
      ]
     },
     "execution_count": 14,
     "metadata": {},
     "output_type": "execute_result"
    }
   ],
   "source": [
    "df.sample(5)"
   ]
  },
  {
   "cell_type": "code",
   "execution_count": 15,
   "id": "79955eb1",
   "metadata": {
    "execution": {
     "iopub.execute_input": "2023-08-23T08:06:51.166430Z",
     "iopub.status.busy": "2023-08-23T08:06:51.165726Z",
     "iopub.status.idle": "2023-08-23T08:06:52.128062Z",
     "shell.execute_reply": "2023-08-23T08:06:52.126857Z"
    },
    "papermill": {
     "duration": 0.994464,
     "end_time": "2023-08-23T08:06:52.130599",
     "exception": false,
     "start_time": "2023-08-23T08:06:51.136135",
     "status": "completed"
    },
    "tags": []
   },
   "outputs": [
    {
     "name": "stderr",
     "output_type": "stream",
     "text": [
      "/opt/conda/lib/python3.10/site-packages/scipy/__init__.py:146: UserWarning: A NumPy version >=1.16.5 and <1.23.0 is required for this version of SciPy (detected version 1.23.5\n",
      "  warnings.warn(f\"A NumPy version >={np_minversion} and <{np_maxversion}\"\n"
     ]
    }
   ],
   "source": [
    "from sklearn.preprocessing import LabelEncoder\n",
    "encoder = LabelEncoder()"
   ]
  },
  {
   "cell_type": "code",
   "execution_count": 16,
   "id": "336d860f",
   "metadata": {
    "execution": {
     "iopub.execute_input": "2023-08-23T08:06:52.187000Z",
     "iopub.status.busy": "2023-08-23T08:06:52.186365Z",
     "iopub.status.idle": "2023-08-23T08:06:52.194385Z",
     "shell.execute_reply": "2023-08-23T08:06:52.193429Z"
    },
    "papermill": {
     "duration": 0.038167,
     "end_time": "2023-08-23T08:06:52.196683",
     "exception": false,
     "start_time": "2023-08-23T08:06:52.158516",
     "status": "completed"
    },
    "tags": []
   },
   "outputs": [],
   "source": [
    "df['target'] = encoder.fit_transform(df['target'])"
   ]
  },
  {
   "cell_type": "code",
   "execution_count": 17,
   "id": "f5571286",
   "metadata": {
    "execution": {
     "iopub.execute_input": "2023-08-23T08:06:52.252269Z",
     "iopub.status.busy": "2023-08-23T08:06:52.251878Z",
     "iopub.status.idle": "2023-08-23T08:06:52.263742Z",
     "shell.execute_reply": "2023-08-23T08:06:52.262518Z"
    },
    "papermill": {
     "duration": 0.042827,
     "end_time": "2023-08-23T08:06:52.266231",
     "exception": false,
     "start_time": "2023-08-23T08:06:52.223404",
     "status": "completed"
    },
    "tags": []
   },
   "outputs": [
    {
     "data": {
      "text/html": [
       "<div>\n",
       "<style scoped>\n",
       "    .dataframe tbody tr th:only-of-type {\n",
       "        vertical-align: middle;\n",
       "    }\n",
       "\n",
       "    .dataframe tbody tr th {\n",
       "        vertical-align: top;\n",
       "    }\n",
       "\n",
       "    .dataframe thead th {\n",
       "        text-align: right;\n",
       "    }\n",
       "</style>\n",
       "<table border=\"1\" class=\"dataframe\">\n",
       "  <thead>\n",
       "    <tr style=\"text-align: right;\">\n",
       "      <th></th>\n",
       "      <th>target</th>\n",
       "      <th>text</th>\n",
       "    </tr>\n",
       "  </thead>\n",
       "  <tbody>\n",
       "    <tr>\n",
       "      <th>4598</th>\n",
       "      <td>0</td>\n",
       "      <td>Have you laid your airtel line to rest?</td>\n",
       "    </tr>\n",
       "    <tr>\n",
       "      <th>5518</th>\n",
       "      <td>0</td>\n",
       "      <td>By the way, i've put a skip right outside the ...</td>\n",
       "    </tr>\n",
       "    <tr>\n",
       "      <th>4120</th>\n",
       "      <td>0</td>\n",
       "      <td>Yunny... I'm goin to be late</td>\n",
       "    </tr>\n",
       "    <tr>\n",
       "      <th>3222</th>\n",
       "      <td>0</td>\n",
       "      <td>Well that must be a pain to catch</td>\n",
       "    </tr>\n",
       "    <tr>\n",
       "      <th>2059</th>\n",
       "      <td>0</td>\n",
       "      <td>He didn't see his shadow. We get an early spri...</td>\n",
       "    </tr>\n",
       "  </tbody>\n",
       "</table>\n",
       "</div>"
      ],
      "text/plain": [
       "      target                                               text\n",
       "4598       0            Have you laid your airtel line to rest?\n",
       "5518       0  By the way, i've put a skip right outside the ...\n",
       "4120       0                       Yunny... I'm goin to be late\n",
       "3222       0                  Well that must be a pain to catch\n",
       "2059       0  He didn't see his shadow. We get an early spri..."
      ]
     },
     "execution_count": 17,
     "metadata": {},
     "output_type": "execute_result"
    }
   ],
   "source": [
    "df.sample(5)"
   ]
  },
  {
   "cell_type": "code",
   "execution_count": 18,
   "id": "5fbca18e",
   "metadata": {
    "execution": {
     "iopub.execute_input": "2023-08-23T08:06:52.322553Z",
     "iopub.status.busy": "2023-08-23T08:06:52.321901Z",
     "iopub.status.idle": "2023-08-23T08:06:52.331655Z",
     "shell.execute_reply": "2023-08-23T08:06:52.330919Z"
    },
    "papermill": {
     "duration": 0.039461,
     "end_time": "2023-08-23T08:06:52.333581",
     "exception": false,
     "start_time": "2023-08-23T08:06:52.294120",
     "status": "completed"
    },
    "tags": []
   },
   "outputs": [],
   "source": [
    "df['num_characters'] = df['text'].apply(lambda x: len(x))"
   ]
  },
  {
   "cell_type": "code",
   "execution_count": 19,
   "id": "9d8bcafe",
   "metadata": {
    "execution": {
     "iopub.execute_input": "2023-08-23T08:06:52.391239Z",
     "iopub.status.busy": "2023-08-23T08:06:52.390768Z",
     "iopub.status.idle": "2023-08-23T08:06:52.402326Z",
     "shell.execute_reply": "2023-08-23T08:06:52.401102Z"
    },
    "papermill": {
     "duration": 0.042623,
     "end_time": "2023-08-23T08:06:52.404309",
     "exception": false,
     "start_time": "2023-08-23T08:06:52.361686",
     "status": "completed"
    },
    "tags": []
   },
   "outputs": [
    {
     "data": {
      "text/html": [
       "<div>\n",
       "<style scoped>\n",
       "    .dataframe tbody tr th:only-of-type {\n",
       "        vertical-align: middle;\n",
       "    }\n",
       "\n",
       "    .dataframe tbody tr th {\n",
       "        vertical-align: top;\n",
       "    }\n",
       "\n",
       "    .dataframe thead th {\n",
       "        text-align: right;\n",
       "    }\n",
       "</style>\n",
       "<table border=\"1\" class=\"dataframe\">\n",
       "  <thead>\n",
       "    <tr style=\"text-align: right;\">\n",
       "      <th></th>\n",
       "      <th>target</th>\n",
       "      <th>text</th>\n",
       "      <th>num_characters</th>\n",
       "    </tr>\n",
       "  </thead>\n",
       "  <tbody>\n",
       "    <tr>\n",
       "      <th>3503</th>\n",
       "      <td>0</td>\n",
       "      <td>Will you be here for food</td>\n",
       "      <td>25</td>\n",
       "    </tr>\n",
       "    <tr>\n",
       "      <th>3737</th>\n",
       "      <td>0</td>\n",
       "      <td>We stopped to get ice cream and will go back a...</td>\n",
       "      <td>50</td>\n",
       "    </tr>\n",
       "    <tr>\n",
       "      <th>2153</th>\n",
       "      <td>0</td>\n",
       "      <td>I dont have i shall buy one dear</td>\n",
       "      <td>32</td>\n",
       "    </tr>\n",
       "    <tr>\n",
       "      <th>5028</th>\n",
       "      <td>1</td>\n",
       "      <td>I'd like to tell you my deepest darkest fantas...</td>\n",
       "      <td>126</td>\n",
       "    </tr>\n",
       "    <tr>\n",
       "      <th>4174</th>\n",
       "      <td>0</td>\n",
       "      <td>How are you doing. How's the queen. Are you go...</td>\n",
       "      <td>71</td>\n",
       "    </tr>\n",
       "  </tbody>\n",
       "</table>\n",
       "</div>"
      ],
      "text/plain": [
       "      target                                               text  \\\n",
       "3503       0                          Will you be here for food   \n",
       "3737       0  We stopped to get ice cream and will go back a...   \n",
       "2153       0                   I dont have i shall buy one dear   \n",
       "5028       1  I'd like to tell you my deepest darkest fantas...   \n",
       "4174       0  How are you doing. How's the queen. Are you go...   \n",
       "\n",
       "      num_characters  \n",
       "3503              25  \n",
       "3737              50  \n",
       "2153              32  \n",
       "5028             126  \n",
       "4174              71  "
      ]
     },
     "execution_count": 19,
     "metadata": {},
     "output_type": "execute_result"
    }
   ],
   "source": [
    "df.sample(5)"
   ]
  },
  {
   "cell_type": "code",
   "execution_count": 20,
   "id": "92d7fa03",
   "metadata": {
    "execution": {
     "iopub.execute_input": "2023-08-23T08:06:52.459989Z",
     "iopub.status.busy": "2023-08-23T08:06:52.459572Z",
     "iopub.status.idle": "2023-08-23T08:07:13.094014Z",
     "shell.execute_reply": "2023-08-23T08:07:13.092830Z"
    },
    "papermill": {
     "duration": 20.664757,
     "end_time": "2023-08-23T08:07:13.096170",
     "exception": false,
     "start_time": "2023-08-23T08:06:52.431413",
     "status": "completed"
    },
    "tags": []
   },
   "outputs": [
    {
     "name": "stdout",
     "output_type": "stream",
     "text": [
      "[nltk_data] Error loading punkt: <urlopen error [Errno -3] Temporary\n",
      "[nltk_data]     failure in name resolution>\n"
     ]
    },
    {
     "data": {
      "text/plain": [
       "False"
      ]
     },
     "execution_count": 20,
     "metadata": {},
     "output_type": "execute_result"
    }
   ],
   "source": [
    "import nltk\n",
    "nltk.download('punkt')"
   ]
  },
  {
   "cell_type": "code",
   "execution_count": 21,
   "id": "312c9399",
   "metadata": {
    "execution": {
     "iopub.execute_input": "2023-08-23T08:07:13.154328Z",
     "iopub.status.busy": "2023-08-23T08:07:13.153952Z",
     "iopub.status.idle": "2023-08-23T08:07:14.792249Z",
     "shell.execute_reply": "2023-08-23T08:07:14.791080Z"
    },
    "papermill": {
     "duration": 1.669583,
     "end_time": "2023-08-23T08:07:14.794830",
     "exception": false,
     "start_time": "2023-08-23T08:07:13.125247",
     "status": "completed"
    },
    "tags": []
   },
   "outputs": [
    {
     "data": {
      "text/plain": [
       "0       [Go, until, jurong, point, ,, crazy.., Availab...\n",
       "1                [Ok, lar, ..., Joking, wif, u, oni, ...]\n",
       "2       [Free, entry, in, 2, a, wkly, comp, to, win, F...\n",
       "3       [U, dun, say, so, early, hor, ..., U, c, alrea...\n",
       "4       [Nah, I, do, n't, think, he, goes, to, usf, ,,...\n",
       "                              ...                        \n",
       "5567    [This, is, the, 2nd, time, we, have, tried, 2,...\n",
       "5568     [Will, Ì_, b, going, to, esplanade, fr, home, ?]\n",
       "5569    [Pity, ,, *, was, in, mood, for, that, ., So, ...\n",
       "5570    [The, guy, did, some, bitching, but, I, acted,...\n",
       "5571                  [Rofl, ., Its, true, to, its, name]\n",
       "Name: text, Length: 5169, dtype: object"
      ]
     },
     "execution_count": 21,
     "metadata": {},
     "output_type": "execute_result"
    }
   ],
   "source": [
    "df['text'].apply(lambda x:nltk.word_tokenize(x))"
   ]
  },
  {
   "cell_type": "code",
   "execution_count": 22,
   "id": "63be4929",
   "metadata": {
    "execution": {
     "iopub.execute_input": "2023-08-23T08:07:14.854732Z",
     "iopub.status.busy": "2023-08-23T08:07:14.853874Z",
     "iopub.status.idle": "2023-08-23T08:07:16.448329Z",
     "shell.execute_reply": "2023-08-23T08:07:16.447415Z"
    },
    "papermill": {
     "duration": 1.627627,
     "end_time": "2023-08-23T08:07:16.450950",
     "exception": false,
     "start_time": "2023-08-23T08:07:14.823323",
     "status": "completed"
    },
    "tags": []
   },
   "outputs": [],
   "source": [
    "df['num_words'] = df['text'].apply(lambda x:len(nltk.word_tokenize(x)))"
   ]
  },
  {
   "cell_type": "code",
   "execution_count": 23,
   "id": "82427735",
   "metadata": {
    "execution": {
     "iopub.execute_input": "2023-08-23T08:07:16.511798Z",
     "iopub.status.busy": "2023-08-23T08:07:16.511408Z",
     "iopub.status.idle": "2023-08-23T08:07:16.522921Z",
     "shell.execute_reply": "2023-08-23T08:07:16.521869Z"
    },
    "papermill": {
     "duration": 0.0449,
     "end_time": "2023-08-23T08:07:16.524971",
     "exception": false,
     "start_time": "2023-08-23T08:07:16.480071",
     "status": "completed"
    },
    "tags": []
   },
   "outputs": [
    {
     "data": {
      "text/html": [
       "<div>\n",
       "<style scoped>\n",
       "    .dataframe tbody tr th:only-of-type {\n",
       "        vertical-align: middle;\n",
       "    }\n",
       "\n",
       "    .dataframe tbody tr th {\n",
       "        vertical-align: top;\n",
       "    }\n",
       "\n",
       "    .dataframe thead th {\n",
       "        text-align: right;\n",
       "    }\n",
       "</style>\n",
       "<table border=\"1\" class=\"dataframe\">\n",
       "  <thead>\n",
       "    <tr style=\"text-align: right;\">\n",
       "      <th></th>\n",
       "      <th>target</th>\n",
       "      <th>text</th>\n",
       "      <th>num_characters</th>\n",
       "      <th>num_words</th>\n",
       "    </tr>\n",
       "  </thead>\n",
       "  <tbody>\n",
       "    <tr>\n",
       "      <th>0</th>\n",
       "      <td>0</td>\n",
       "      <td>Go until jurong point, crazy.. Available only ...</td>\n",
       "      <td>111</td>\n",
       "      <td>23</td>\n",
       "    </tr>\n",
       "    <tr>\n",
       "      <th>1</th>\n",
       "      <td>0</td>\n",
       "      <td>Ok lar... Joking wif u oni...</td>\n",
       "      <td>29</td>\n",
       "      <td>8</td>\n",
       "    </tr>\n",
       "    <tr>\n",
       "      <th>2</th>\n",
       "      <td>1</td>\n",
       "      <td>Free entry in 2 a wkly comp to win FA Cup fina...</td>\n",
       "      <td>155</td>\n",
       "      <td>37</td>\n",
       "    </tr>\n",
       "    <tr>\n",
       "      <th>3</th>\n",
       "      <td>0</td>\n",
       "      <td>U dun say so early hor... U c already then say...</td>\n",
       "      <td>49</td>\n",
       "      <td>13</td>\n",
       "    </tr>\n",
       "    <tr>\n",
       "      <th>4</th>\n",
       "      <td>0</td>\n",
       "      <td>Nah I don't think he goes to usf, he lives aro...</td>\n",
       "      <td>61</td>\n",
       "      <td>15</td>\n",
       "    </tr>\n",
       "  </tbody>\n",
       "</table>\n",
       "</div>"
      ],
      "text/plain": [
       "   target                                               text  num_characters  \\\n",
       "0       0  Go until jurong point, crazy.. Available only ...             111   \n",
       "1       0                      Ok lar... Joking wif u oni...              29   \n",
       "2       1  Free entry in 2 a wkly comp to win FA Cup fina...             155   \n",
       "3       0  U dun say so early hor... U c already then say...              49   \n",
       "4       0  Nah I don't think he goes to usf, he lives aro...              61   \n",
       "\n",
       "   num_words  \n",
       "0         23  \n",
       "1          8  \n",
       "2         37  \n",
       "3         13  \n",
       "4         15  "
      ]
     },
     "execution_count": 23,
     "metadata": {},
     "output_type": "execute_result"
    }
   ],
   "source": [
    "df.head(5)"
   ]
  },
  {
   "cell_type": "code",
   "execution_count": 24,
   "id": "85332434",
   "metadata": {
    "execution": {
     "iopub.execute_input": "2023-08-23T08:07:16.581539Z",
     "iopub.status.busy": "2023-08-23T08:07:16.580803Z",
     "iopub.status.idle": "2023-08-23T08:07:16.965731Z",
     "shell.execute_reply": "2023-08-23T08:07:16.964744Z"
    },
    "papermill": {
     "duration": 0.416035,
     "end_time": "2023-08-23T08:07:16.968400",
     "exception": false,
     "start_time": "2023-08-23T08:07:16.552365",
     "status": "completed"
    },
    "tags": []
   },
   "outputs": [],
   "source": [
    "df['num_sentences'] = df['text'].apply(lambda x:len(nltk.sent_tokenize(x)))"
   ]
  },
  {
   "cell_type": "code",
   "execution_count": 25,
   "id": "881e2c9e",
   "metadata": {
    "execution": {
     "iopub.execute_input": "2023-08-23T08:07:17.044732Z",
     "iopub.status.busy": "2023-08-23T08:07:17.044268Z",
     "iopub.status.idle": "2023-08-23T08:07:17.056517Z",
     "shell.execute_reply": "2023-08-23T08:07:17.055266Z"
    },
    "papermill": {
     "duration": 0.049794,
     "end_time": "2023-08-23T08:07:17.058951",
     "exception": false,
     "start_time": "2023-08-23T08:07:17.009157",
     "status": "completed"
    },
    "tags": []
   },
   "outputs": [
    {
     "data": {
      "text/html": [
       "<div>\n",
       "<style scoped>\n",
       "    .dataframe tbody tr th:only-of-type {\n",
       "        vertical-align: middle;\n",
       "    }\n",
       "\n",
       "    .dataframe tbody tr th {\n",
       "        vertical-align: top;\n",
       "    }\n",
       "\n",
       "    .dataframe thead th {\n",
       "        text-align: right;\n",
       "    }\n",
       "</style>\n",
       "<table border=\"1\" class=\"dataframe\">\n",
       "  <thead>\n",
       "    <tr style=\"text-align: right;\">\n",
       "      <th></th>\n",
       "      <th>target</th>\n",
       "      <th>text</th>\n",
       "      <th>num_characters</th>\n",
       "      <th>num_words</th>\n",
       "      <th>num_sentences</th>\n",
       "    </tr>\n",
       "  </thead>\n",
       "  <tbody>\n",
       "    <tr>\n",
       "      <th>0</th>\n",
       "      <td>0</td>\n",
       "      <td>Go until jurong point, crazy.. Available only ...</td>\n",
       "      <td>111</td>\n",
       "      <td>23</td>\n",
       "      <td>2</td>\n",
       "    </tr>\n",
       "    <tr>\n",
       "      <th>1</th>\n",
       "      <td>0</td>\n",
       "      <td>Ok lar... Joking wif u oni...</td>\n",
       "      <td>29</td>\n",
       "      <td>8</td>\n",
       "      <td>2</td>\n",
       "    </tr>\n",
       "    <tr>\n",
       "      <th>2</th>\n",
       "      <td>1</td>\n",
       "      <td>Free entry in 2 a wkly comp to win FA Cup fina...</td>\n",
       "      <td>155</td>\n",
       "      <td>37</td>\n",
       "      <td>2</td>\n",
       "    </tr>\n",
       "    <tr>\n",
       "      <th>3</th>\n",
       "      <td>0</td>\n",
       "      <td>U dun say so early hor... U c already then say...</td>\n",
       "      <td>49</td>\n",
       "      <td>13</td>\n",
       "      <td>1</td>\n",
       "    </tr>\n",
       "    <tr>\n",
       "      <th>4</th>\n",
       "      <td>0</td>\n",
       "      <td>Nah I don't think he goes to usf, he lives aro...</td>\n",
       "      <td>61</td>\n",
       "      <td>15</td>\n",
       "      <td>1</td>\n",
       "    </tr>\n",
       "  </tbody>\n",
       "</table>\n",
       "</div>"
      ],
      "text/plain": [
       "   target                                               text  num_characters  \\\n",
       "0       0  Go until jurong point, crazy.. Available only ...             111   \n",
       "1       0                      Ok lar... Joking wif u oni...              29   \n",
       "2       1  Free entry in 2 a wkly comp to win FA Cup fina...             155   \n",
       "3       0  U dun say so early hor... U c already then say...              49   \n",
       "4       0  Nah I don't think he goes to usf, he lives aro...              61   \n",
       "\n",
       "   num_words  num_sentences  \n",
       "0         23              2  \n",
       "1          8              2  \n",
       "2         37              2  \n",
       "3         13              1  \n",
       "4         15              1  "
      ]
     },
     "execution_count": 25,
     "metadata": {},
     "output_type": "execute_result"
    }
   ],
   "source": [
    "df.head()"
   ]
  },
  {
   "cell_type": "code",
   "execution_count": 26,
   "id": "5f0cb084",
   "metadata": {
    "execution": {
     "iopub.execute_input": "2023-08-23T08:07:17.118976Z",
     "iopub.status.busy": "2023-08-23T08:07:17.117695Z",
     "iopub.status.idle": "2023-08-23T08:07:17.141904Z",
     "shell.execute_reply": "2023-08-23T08:07:17.140816Z"
    },
    "papermill": {
     "duration": 0.055833,
     "end_time": "2023-08-23T08:07:17.144005",
     "exception": false,
     "start_time": "2023-08-23T08:07:17.088172",
     "status": "completed"
    },
    "tags": []
   },
   "outputs": [
    {
     "data": {
      "text/html": [
       "<div>\n",
       "<style scoped>\n",
       "    .dataframe tbody tr th:only-of-type {\n",
       "        vertical-align: middle;\n",
       "    }\n",
       "\n",
       "    .dataframe tbody tr th {\n",
       "        vertical-align: top;\n",
       "    }\n",
       "\n",
       "    .dataframe thead th {\n",
       "        text-align: right;\n",
       "    }\n",
       "</style>\n",
       "<table border=\"1\" class=\"dataframe\">\n",
       "  <thead>\n",
       "    <tr style=\"text-align: right;\">\n",
       "      <th></th>\n",
       "      <th>target</th>\n",
       "      <th>num_characters</th>\n",
       "      <th>num_words</th>\n",
       "      <th>num_sentences</th>\n",
       "    </tr>\n",
       "  </thead>\n",
       "  <tbody>\n",
       "    <tr>\n",
       "      <th>count</th>\n",
       "      <td>5169.000000</td>\n",
       "      <td>5169.000000</td>\n",
       "      <td>5169.000000</td>\n",
       "      <td>5169.000000</td>\n",
       "    </tr>\n",
       "    <tr>\n",
       "      <th>mean</th>\n",
       "      <td>0.126330</td>\n",
       "      <td>78.977945</td>\n",
       "      <td>18.286129</td>\n",
       "      <td>1.961308</td>\n",
       "    </tr>\n",
       "    <tr>\n",
       "      <th>std</th>\n",
       "      <td>0.332253</td>\n",
       "      <td>58.236293</td>\n",
       "      <td>13.226400</td>\n",
       "      <td>1.432583</td>\n",
       "    </tr>\n",
       "    <tr>\n",
       "      <th>min</th>\n",
       "      <td>0.000000</td>\n",
       "      <td>2.000000</td>\n",
       "      <td>1.000000</td>\n",
       "      <td>1.000000</td>\n",
       "    </tr>\n",
       "    <tr>\n",
       "      <th>25%</th>\n",
       "      <td>0.000000</td>\n",
       "      <td>36.000000</td>\n",
       "      <td>9.000000</td>\n",
       "      <td>1.000000</td>\n",
       "    </tr>\n",
       "    <tr>\n",
       "      <th>50%</th>\n",
       "      <td>0.000000</td>\n",
       "      <td>60.000000</td>\n",
       "      <td>15.000000</td>\n",
       "      <td>1.000000</td>\n",
       "    </tr>\n",
       "    <tr>\n",
       "      <th>75%</th>\n",
       "      <td>0.000000</td>\n",
       "      <td>117.000000</td>\n",
       "      <td>26.000000</td>\n",
       "      <td>2.000000</td>\n",
       "    </tr>\n",
       "    <tr>\n",
       "      <th>max</th>\n",
       "      <td>1.000000</td>\n",
       "      <td>910.000000</td>\n",
       "      <td>219.000000</td>\n",
       "      <td>38.000000</td>\n",
       "    </tr>\n",
       "  </tbody>\n",
       "</table>\n",
       "</div>"
      ],
      "text/plain": [
       "            target  num_characters    num_words  num_sentences\n",
       "count  5169.000000     5169.000000  5169.000000    5169.000000\n",
       "mean      0.126330       78.977945    18.286129       1.961308\n",
       "std       0.332253       58.236293    13.226400       1.432583\n",
       "min       0.000000        2.000000     1.000000       1.000000\n",
       "25%       0.000000       36.000000     9.000000       1.000000\n",
       "50%       0.000000       60.000000    15.000000       1.000000\n",
       "75%       0.000000      117.000000    26.000000       2.000000\n",
       "max       1.000000      910.000000   219.000000      38.000000"
      ]
     },
     "execution_count": 26,
     "metadata": {},
     "output_type": "execute_result"
    }
   ],
   "source": [
    "df.describe()"
   ]
  },
  {
   "cell_type": "code",
   "execution_count": 27,
   "id": "299ae610",
   "metadata": {
    "execution": {
     "iopub.execute_input": "2023-08-23T08:07:17.201893Z",
     "iopub.status.busy": "2023-08-23T08:07:17.201250Z",
     "iopub.status.idle": "2023-08-23T08:07:17.221838Z",
     "shell.execute_reply": "2023-08-23T08:07:17.220856Z"
    },
    "papermill": {
     "duration": 0.052241,
     "end_time": "2023-08-23T08:07:17.223795",
     "exception": false,
     "start_time": "2023-08-23T08:07:17.171554",
     "status": "completed"
    },
    "tags": []
   },
   "outputs": [
    {
     "data": {
      "text/html": [
       "<div>\n",
       "<style scoped>\n",
       "    .dataframe tbody tr th:only-of-type {\n",
       "        vertical-align: middle;\n",
       "    }\n",
       "\n",
       "    .dataframe tbody tr th {\n",
       "        vertical-align: top;\n",
       "    }\n",
       "\n",
       "    .dataframe thead th {\n",
       "        text-align: right;\n",
       "    }\n",
       "</style>\n",
       "<table border=\"1\" class=\"dataframe\">\n",
       "  <thead>\n",
       "    <tr style=\"text-align: right;\">\n",
       "      <th></th>\n",
       "      <th>num_characters</th>\n",
       "      <th>num_words</th>\n",
       "      <th>num_sentences</th>\n",
       "    </tr>\n",
       "  </thead>\n",
       "  <tbody>\n",
       "    <tr>\n",
       "      <th>count</th>\n",
       "      <td>4516.000000</td>\n",
       "      <td>4516.000000</td>\n",
       "      <td>4516.000000</td>\n",
       "    </tr>\n",
       "    <tr>\n",
       "      <th>mean</th>\n",
       "      <td>70.459256</td>\n",
       "      <td>16.957484</td>\n",
       "      <td>1.815545</td>\n",
       "    </tr>\n",
       "    <tr>\n",
       "      <th>std</th>\n",
       "      <td>56.358207</td>\n",
       "      <td>13.394052</td>\n",
       "      <td>1.364098</td>\n",
       "    </tr>\n",
       "    <tr>\n",
       "      <th>min</th>\n",
       "      <td>2.000000</td>\n",
       "      <td>1.000000</td>\n",
       "      <td>1.000000</td>\n",
       "    </tr>\n",
       "    <tr>\n",
       "      <th>25%</th>\n",
       "      <td>34.000000</td>\n",
       "      <td>8.000000</td>\n",
       "      <td>1.000000</td>\n",
       "    </tr>\n",
       "    <tr>\n",
       "      <th>50%</th>\n",
       "      <td>52.000000</td>\n",
       "      <td>13.000000</td>\n",
       "      <td>1.000000</td>\n",
       "    </tr>\n",
       "    <tr>\n",
       "      <th>75%</th>\n",
       "      <td>90.000000</td>\n",
       "      <td>22.000000</td>\n",
       "      <td>2.000000</td>\n",
       "    </tr>\n",
       "    <tr>\n",
       "      <th>max</th>\n",
       "      <td>910.000000</td>\n",
       "      <td>219.000000</td>\n",
       "      <td>38.000000</td>\n",
       "    </tr>\n",
       "  </tbody>\n",
       "</table>\n",
       "</div>"
      ],
      "text/plain": [
       "       num_characters    num_words  num_sentences\n",
       "count     4516.000000  4516.000000    4516.000000\n",
       "mean        70.459256    16.957484       1.815545\n",
       "std         56.358207    13.394052       1.364098\n",
       "min          2.000000     1.000000       1.000000\n",
       "25%         34.000000     8.000000       1.000000\n",
       "50%         52.000000    13.000000       1.000000\n",
       "75%         90.000000    22.000000       2.000000\n",
       "max        910.000000   219.000000      38.000000"
      ]
     },
     "execution_count": 27,
     "metadata": {},
     "output_type": "execute_result"
    }
   ],
   "source": [
    "#ham\n",
    "\n",
    "df[df['target'] == 0][['num_characters', 'num_words', 'num_sentences']].describe()"
   ]
  },
  {
   "cell_type": "code",
   "execution_count": 28,
   "id": "af97c923",
   "metadata": {
    "execution": {
     "iopub.execute_input": "2023-08-23T08:07:17.281105Z",
     "iopub.status.busy": "2023-08-23T08:07:17.280469Z",
     "iopub.status.idle": "2023-08-23T08:07:17.299867Z",
     "shell.execute_reply": "2023-08-23T08:07:17.298954Z"
    },
    "papermill": {
     "duration": 0.050393,
     "end_time": "2023-08-23T08:07:17.301723",
     "exception": false,
     "start_time": "2023-08-23T08:07:17.251330",
     "status": "completed"
    },
    "tags": []
   },
   "outputs": [
    {
     "data": {
      "text/html": [
       "<div>\n",
       "<style scoped>\n",
       "    .dataframe tbody tr th:only-of-type {\n",
       "        vertical-align: middle;\n",
       "    }\n",
       "\n",
       "    .dataframe tbody tr th {\n",
       "        vertical-align: top;\n",
       "    }\n",
       "\n",
       "    .dataframe thead th {\n",
       "        text-align: right;\n",
       "    }\n",
       "</style>\n",
       "<table border=\"1\" class=\"dataframe\">\n",
       "  <thead>\n",
       "    <tr style=\"text-align: right;\">\n",
       "      <th></th>\n",
       "      <th>num_characters</th>\n",
       "      <th>num_words</th>\n",
       "      <th>num_sentences</th>\n",
       "    </tr>\n",
       "  </thead>\n",
       "  <tbody>\n",
       "    <tr>\n",
       "      <th>count</th>\n",
       "      <td>653.000000</td>\n",
       "      <td>653.000000</td>\n",
       "      <td>653.000000</td>\n",
       "    </tr>\n",
       "    <tr>\n",
       "      <th>mean</th>\n",
       "      <td>137.891271</td>\n",
       "      <td>27.474732</td>\n",
       "      <td>2.969372</td>\n",
       "    </tr>\n",
       "    <tr>\n",
       "      <th>std</th>\n",
       "      <td>30.137753</td>\n",
       "      <td>6.893007</td>\n",
       "      <td>1.488910</td>\n",
       "    </tr>\n",
       "    <tr>\n",
       "      <th>min</th>\n",
       "      <td>13.000000</td>\n",
       "      <td>2.000000</td>\n",
       "      <td>1.000000</td>\n",
       "    </tr>\n",
       "    <tr>\n",
       "      <th>25%</th>\n",
       "      <td>132.000000</td>\n",
       "      <td>25.000000</td>\n",
       "      <td>2.000000</td>\n",
       "    </tr>\n",
       "    <tr>\n",
       "      <th>50%</th>\n",
       "      <td>149.000000</td>\n",
       "      <td>29.000000</td>\n",
       "      <td>3.000000</td>\n",
       "    </tr>\n",
       "    <tr>\n",
       "      <th>75%</th>\n",
       "      <td>157.000000</td>\n",
       "      <td>32.000000</td>\n",
       "      <td>4.000000</td>\n",
       "    </tr>\n",
       "    <tr>\n",
       "      <th>max</th>\n",
       "      <td>224.000000</td>\n",
       "      <td>44.000000</td>\n",
       "      <td>9.000000</td>\n",
       "    </tr>\n",
       "  </tbody>\n",
       "</table>\n",
       "</div>"
      ],
      "text/plain": [
       "       num_characters   num_words  num_sentences\n",
       "count      653.000000  653.000000     653.000000\n",
       "mean       137.891271   27.474732       2.969372\n",
       "std         30.137753    6.893007       1.488910\n",
       "min         13.000000    2.000000       1.000000\n",
       "25%        132.000000   25.000000       2.000000\n",
       "50%        149.000000   29.000000       3.000000\n",
       "75%        157.000000   32.000000       4.000000\n",
       "max        224.000000   44.000000       9.000000"
      ]
     },
     "execution_count": 28,
     "metadata": {},
     "output_type": "execute_result"
    }
   ],
   "source": [
    "#spam\n",
    "\n",
    "df[df['target'] == 1][['num_characters', 'num_words', 'num_sentences']].describe()"
   ]
  },
  {
   "cell_type": "code",
   "execution_count": 29,
   "id": "36d37a6e",
   "metadata": {
    "execution": {
     "iopub.execute_input": "2023-08-23T08:07:17.361427Z",
     "iopub.status.busy": "2023-08-23T08:07:17.360756Z",
     "iopub.status.idle": "2023-08-23T08:07:17.763575Z",
     "shell.execute_reply": "2023-08-23T08:07:17.762699Z"
    },
    "papermill": {
     "duration": 0.435366,
     "end_time": "2023-08-23T08:07:17.765937",
     "exception": false,
     "start_time": "2023-08-23T08:07:17.330571",
     "status": "completed"
    },
    "tags": []
   },
   "outputs": [],
   "source": [
    "import seaborn as sns\n",
    "import matplotlib.pyplot as plt"
   ]
  },
  {
   "cell_type": "code",
   "execution_count": 30,
   "id": "23e296ff",
   "metadata": {
    "execution": {
     "iopub.execute_input": "2023-08-23T08:07:17.824634Z",
     "iopub.status.busy": "2023-08-23T08:07:17.824284Z",
     "iopub.status.idle": "2023-08-23T08:07:18.459050Z",
     "shell.execute_reply": "2023-08-23T08:07:18.457960Z"
    },
    "papermill": {
     "duration": 0.667744,
     "end_time": "2023-08-23T08:07:18.461650",
     "exception": false,
     "start_time": "2023-08-23T08:07:17.793906",
     "status": "completed"
    },
    "tags": []
   },
   "outputs": [
    {
     "data": {
      "text/plain": [
       "<Axes: xlabel='num_characters', ylabel='Count'>"
      ]
     },
     "execution_count": 30,
     "metadata": {},
     "output_type": "execute_result"
    },
    {
     "data": {
      "image/png": "[encoded data removed]",
      "text/plain": [
       "<Figure size 1200x800 with 1 Axes>"
      ]
     },
     "metadata": {},
     "output_type": "display_data"
    }
   ],
   "source": [
    "plt.figure(figsize=(12,8))\n",
    "sns.histplot(df[df['target'] == 0]['num_characters'])\n",
    "sns.histplot(df[df['target'] == 1]['num_characters'], color='r')"
   ]
  },
  {
   "cell_type": "code",
   "execution_count": 31,
   "id": "39b3238a",
   "metadata": {
    "execution": {
     "iopub.execute_input": "2023-08-23T08:07:18.525466Z",
     "iopub.status.busy": "2023-08-23T08:07:18.525105Z",
     "iopub.status.idle": "2023-08-23T08:07:19.262108Z",
     "shell.execute_reply": "2023-08-23T08:07:19.261029Z"
    },
    "papermill": {
     "duration": 0.772132,
     "end_time": "2023-08-23T08:07:19.264468",
     "exception": false,
     "start_time": "2023-08-23T08:07:18.492336",
     "status": "completed"
    },
    "tags": []
   },
   "outputs": [
    {
     "data": {
      "text/plain": [
       "<Axes: xlabel='num_words', ylabel='Count'>"
      ]
     },
     "execution_count": 31,
     "metadata": {},
     "output_type": "execute_result"
    },
    {
     "data": {
      "image/png": "[encoded data removed]",
      "text/plain": [
       "<Figure size 1200x800 with 1 Axes>"
      ]
     },
     "metadata": {},
     "output_type": "display_data"
    }
   ],
   "source": [
    "plt.figure(figsize=(12,8))\n",
    "sns.histplot(df[df['target'] == 0]['num_words'])\n",
    "sns.histplot(df[df['target'] == 1]['num_words'], color='r')"
   ]
  },
  {
   "cell_type": "code",
   "execution_count": 32,
   "id": "628a72db",
   "metadata": {
    "execution": {
     "iopub.execute_input": "2023-08-23T08:07:19.329063Z",
     "iopub.status.busy": "2023-08-23T08:07:19.328204Z",
     "iopub.status.idle": "2023-08-23T08:07:20.183775Z",
     "shell.execute_reply": "2023-08-23T08:07:20.181517Z"
    },
    "papermill": {
     "duration": 0.889203,
     "end_time": "2023-08-23T08:07:20.186344",
     "exception": false,
     "start_time": "2023-08-23T08:07:19.297141",
     "status": "completed"
    },
    "tags": []
   },
   "outputs": [
    {
     "data": {
      "text/plain": [
       "<Axes: xlabel='num_sentences', ylabel='Count'>"
      ]
     },
     "execution_count": 32,
     "metadata": {},
     "output_type": "execute_result"
    },
    {
     "data": {
      "image/png": "[encoded data removed]",
      "text/plain": [
       "<Figure size 1200x800 with 1 Axes>"
      ]
     },
     "metadata": {},
     "output_type": "display_data"
    }
   ],
   "source": [
    "plt.figure(figsize=(12,8))\n",
    "sns.histplot(df[df['target'] == 0]['num_sentences'])\n",
    "sns.histplot(df[df['target'] == 1]['num_sentences'], color='r')"
   ]
  },
  {
   "cell_type": "code",
   "execution_count": 33,
   "id": "ee7d0e7a",
   "metadata": {
    "execution": {
     "iopub.execute_input": "2023-08-23T08:07:20.251876Z",
     "iopub.status.busy": "2023-08-23T08:07:20.251224Z",
     "iopub.status.idle": "2023-08-23T08:07:26.489834Z",
     "shell.execute_reply": "2023-08-23T08:07:26.488891Z"
    },
    "papermill": {
     "duration": 6.276448,
     "end_time": "2023-08-23T08:07:26.494950",
     "exception": false,
     "start_time": "2023-08-23T08:07:20.218502",
     "status": "completed"
    },
    "tags": []
   },
   "outputs": [
    {
     "name": "stderr",
     "output_type": "stream",
     "text": [
      "/opt/conda/lib/python3.10/site-packages/seaborn/axisgrid.py:118: UserWarning: The figure layout has changed to tight\n",
      "  self._figure.tight_layout(*args, **kwargs)\n"
     ]
    },
    {
     "data": {
      "text/plain": [
       "<seaborn.axisgrid.PairGrid at 0x7cc1ebda2770>"
      ]
     },
     "execution_count": 33,
     "metadata": {},
     "output_type": "execute_result"
    },
    {
     "data": {
      "image/png": "[encoded data removed]",
      "text/plain": [
       "<Figure size 808.875x750 with 12 Axes>"
      ]
     },
     "metadata": {},
     "output_type": "display_data"
    }
   ],
   "source": [
    "sns.pairplot(df, hue = 'target')"
   ]
  },
  {
   "cell_type": "code",
   "execution_count": 34,
   "id": "84982822",
   "metadata": {
    "execution": {
     "iopub.execute_input": "2023-08-23T08:07:26.570627Z",
     "iopub.status.busy": "2023-08-23T08:07:26.570243Z",
     "iopub.status.idle": "2023-08-23T08:07:26.947374Z",
     "shell.execute_reply": "2023-08-23T08:07:26.945699Z"
    },
    "papermill": {
     "duration": 0.417518,
     "end_time": "2023-08-23T08:07:26.950353",
     "exception": false,
     "start_time": "2023-08-23T08:07:26.532835",
     "status": "completed"
    },
    "tags": []
   },
   "outputs": [
    {
     "name": "stderr",
     "output_type": "stream",
     "text": [
      "/tmp/ipykernel_20/621126171.py:1: FutureWarning: The default value of numeric_only in DataFrame.corr is deprecated. In a future version, it will default to False. Select only valid columns or specify the value of numeric_only to silence this warning.\n",
      "  sns.heatmap(df.corr(), annot=True)\n"
     ]
    },
    {
     "data": {
      "text/plain": [
       "<Axes: >"
      ]
     },
     "execution_count": 34,
     "metadata": {},
     "output_type": "execute_result"
    },
    {
     "data": {
      "image/png": "[encoded data removed]",
      "text/plain": [
       "<Figure size 640x480 with 2 Axes>"
      ]
     },
     "metadata": {},
     "output_type": "display_data"
    }
   ],
   "source": [
    "sns.heatmap(df.corr(), annot=True)"
   ]
  },
  {
   "cell_type": "code",
   "execution_count": 35,
   "id": "2d8a6e0b",
   "metadata": {
    "execution": {
     "iopub.execute_input": "2023-08-23T08:07:27.028964Z",
     "iopub.status.busy": "2023-08-23T08:07:27.028587Z",
     "iopub.status.idle": "2023-08-23T08:07:27.032279Z",
     "shell.execute_reply": "2023-08-23T08:07:27.031508Z"
    },
    "papermill": {
     "duration": 0.046456,
     "end_time": "2023-08-23T08:07:27.033999",
     "exception": false,
     "start_time": "2023-08-23T08:07:26.987543",
     "status": "completed"
    },
    "tags": []
   },
   "outputs": [],
   "source": [
    "#Lower case\n",
    "#Tokenization\n",
    "#Removing special characters\n",
    "#Removing stop words and punctuation\n",
    "#Stemming"
   ]
  },
  {
   "cell_type": "code",
   "execution_count": 36,
   "id": "d7ab3976",
   "metadata": {
    "execution": {
     "iopub.execute_input": "2023-08-23T08:07:27.100444Z",
     "iopub.status.busy": "2023-08-23T08:07:27.099844Z",
     "iopub.status.idle": "2023-08-23T08:07:27.104130Z",
     "shell.execute_reply": "2023-08-23T08:07:27.103352Z"
    },
    "papermill": {
     "duration": 0.040762,
     "end_time": "2023-08-23T08:07:27.105913",
     "exception": false,
     "start_time": "2023-08-23T08:07:27.065151",
     "status": "completed"
    },
    "tags": []
   },
   "outputs": [],
   "source": [
    "import nltk\n",
    "from nltk.corpus import stopwords\n",
    "from nltk.stem.porter import PorterStemmer\n",
    "ps = PorterStemmer()"
   ]
  },
  {
   "cell_type": "code",
   "execution_count": 37,
   "id": "ef05b1fb",
   "metadata": {
    "execution": {
     "iopub.execute_input": "2023-08-23T08:07:27.173247Z",
     "iopub.status.busy": "2023-08-23T08:07:27.172655Z",
     "iopub.status.idle": "2023-08-23T08:07:27.176614Z",
     "shell.execute_reply": "2023-08-23T08:07:27.175772Z"
    },
    "papermill": {
     "duration": 0.040223,
     "end_time": "2023-08-23T08:07:27.178690",
     "exception": false,
     "start_time": "2023-08-23T08:07:27.138467",
     "status": "completed"
    },
    "tags": []
   },
   "outputs": [],
   "source": [
    "import string"
   ]
  },
  {
   "cell_type": "code",
   "execution_count": 38,
   "id": "158aa855",
   "metadata": {
    "execution": {
     "iopub.execute_input": "2023-08-23T08:07:27.246718Z",
     "iopub.status.busy": "2023-08-23T08:07:27.246316Z",
     "iopub.status.idle": "2023-08-23T08:07:27.253880Z",
     "shell.execute_reply": "2023-08-23T08:07:27.252919Z"
    },
    "papermill": {
     "duration": 0.043707,
     "end_time": "2023-08-23T08:07:27.255751",
     "exception": false,
     "start_time": "2023-08-23T08:07:27.212044",
     "status": "completed"
    },
    "tags": []
   },
   "outputs": [],
   "source": [
    "def transform_text(text):\n",
    "    text = text.lower()\n",
    "    text = nltk.word_tokenize(text)\n",
    "    \n",
    "    y = []\n",
    "    for i in text:\n",
    "        if i.isalnum():\n",
    "            y.append(i)\n",
    "    text = y[:]\n",
    "    y.clear()\n",
    "    \n",
    "    for i in text:\n",
    "        if i not in stopwords.words('english') and i not in string.punctuation:\n",
    "            y.append(i)\n",
    "            \n",
    "    text = y[:]\n",
    "    y.clear()\n",
    "    \n",
    "    for i in text:\n",
    "        y.append(ps.stem(i))     \n",
    "    \n",
    "    return ' '.join(y)"
   ]
  },
  {
   "cell_type": "code",
   "execution_count": 39,
   "id": "283ef293",
   "metadata": {
    "execution": {
     "iopub.execute_input": "2023-08-23T08:07:27.320078Z",
     "iopub.status.busy": "2023-08-23T08:07:27.319724Z",
     "iopub.status.idle": "2023-08-23T08:07:27.333992Z",
     "shell.execute_reply": "2023-08-23T08:07:27.333140Z"
    },
    "papermill": {
     "duration": 0.049413,
     "end_time": "2023-08-23T08:07:27.336176",
     "exception": false,
     "start_time": "2023-08-23T08:07:27.286763",
     "status": "completed"
    },
    "tags": []
   },
   "outputs": [
    {
     "data": {
      "text/plain": [
       "'go jurong point avail bugi n great world la e buffet cine got amor wat'"
      ]
     },
     "execution_count": 39,
     "metadata": {},
     "output_type": "execute_result"
    }
   ],
   "source": [
    "transform_text('Go until jurong point, crazy.. Available only in bugis n great world la e buffet... Cine there got amore wat...')"
   ]
  },
  {
   "cell_type": "code",
   "execution_count": 40,
   "id": "938f61e9",
   "metadata": {
    "execution": {
     "iopub.execute_input": "2023-08-23T08:07:27.402580Z",
     "iopub.status.busy": "2023-08-23T08:07:27.401732Z",
     "iopub.status.idle": "2023-08-23T08:07:27.409289Z",
     "shell.execute_reply": "2023-08-23T08:07:27.408453Z"
    },
    "papermill": {
     "duration": 0.042864,
     "end_time": "2023-08-23T08:07:27.411281",
     "exception": false,
     "start_time": "2023-08-23T08:07:27.368417",
     "status": "completed"
    },
    "tags": []
   },
   "outputs": [
    {
     "data": {
      "text/plain": [
       "'Go until jurong point, crazy.. Available only in bugis n great world la e buffet... Cine there got amore wat...'"
      ]
     },
     "execution_count": 40,
     "metadata": {},
     "output_type": "execute_result"
    }
   ],
   "source": [
    "df['text'][0]"
   ]
  },
  {
   "cell_type": "code",
   "execution_count": 41,
   "id": "acf0162b",
   "metadata": {
    "execution": {
     "iopub.execute_input": "2023-08-23T08:07:27.475776Z",
     "iopub.status.busy": "2023-08-23T08:07:27.474922Z",
     "iopub.status.idle": "2023-08-23T08:07:27.485611Z",
     "shell.execute_reply": "2023-08-23T08:07:27.484931Z"
    },
    "papermill": {
     "duration": 0.045123,
     "end_time": "2023-08-23T08:07:27.487849",
     "exception": false,
     "start_time": "2023-08-23T08:07:27.442726",
     "status": "completed"
    },
    "tags": []
   },
   "outputs": [
    {
     "data": {
      "text/plain": [
       "'go jurong point avail bugi n great world la e buffet cine got amor wat'"
      ]
     },
     "execution_count": 41,
     "metadata": {},
     "output_type": "execute_result"
    }
   ],
   "source": [
    "transform_text('Go until jurong point, crazy.. Available only in bugis n great world la e buffet... Cine there got amore wat...')"
   ]
  },
  {
   "cell_type": "code",
   "execution_count": 42,
   "id": "1b042d77",
   "metadata": {
    "execution": {
     "iopub.execute_input": "2023-08-23T08:07:27.557734Z",
     "iopub.status.busy": "2023-08-23T08:07:27.557053Z",
     "iopub.status.idle": "2023-08-23T08:07:27.566913Z",
     "shell.execute_reply": "2023-08-23T08:07:27.566094Z"
    },
    "papermill": {
     "duration": 0.047266,
     "end_time": "2023-08-23T08:07:27.568714",
     "exception": false,
     "start_time": "2023-08-23T08:07:27.521448",
     "status": "completed"
    },
    "tags": []
   },
   "outputs": [
    {
     "data": {
      "text/plain": [
       "['au',\n",
       " 'aux',\n",
       " 'avec',\n",
       " 'ce',\n",
       " 'ces',\n",
       " 'dans',\n",
       " 'de',\n",
       " 'des',\n",
       " 'du',\n",
       " 'elle',\n",
       " 'en',\n",
       " 'et',\n",
       " 'eux',\n",
       " 'il',\n",
       " 'ils',\n",
       " 'je',\n",
       " 'la',\n",
       " 'le',\n",
       " 'les',\n",
       " 'leur',\n",
       " 'lui',\n",
       " 'ma',\n",
       " 'mais',\n",
       " 'me',\n",
       " 'même',\n",
       " 'mes',\n",
       " 'moi',\n",
       " 'mon',\n",
       " 'ne',\n",
       " 'nos',\n",
       " 'notre',\n",
       " 'nous',\n",
       " 'on',\n",
       " 'ou',\n",
       " 'par',\n",
       " 'pas',\n",
       " 'pour',\n",
       " 'qu',\n",
       " 'que',\n",
       " 'qui',\n",
       " 'sa',\n",
       " 'se',\n",
       " 'ses',\n",
       " 'son',\n",
       " 'sur',\n",
       " 'ta',\n",
       " 'te',\n",
       " 'tes',\n",
       " 'toi',\n",
       " 'ton',\n",
       " 'tu',\n",
       " 'un',\n",
       " 'une',\n",
       " 'vos',\n",
       " 'votre',\n",
       " 'vous',\n",
       " 'c',\n",
       " 'd',\n",
       " 'j',\n",
       " 'l',\n",
       " 'à',\n",
       " 'm',\n",
       " 'n',\n",
       " 's',\n",
       " 't',\n",
       " 'y',\n",
       " 'été',\n",
       " 'étée',\n",
       " 'étées',\n",
       " 'étés',\n",
       " 'étant',\n",
       " 'étante',\n",
       " 'étants',\n",
       " 'étantes',\n",
       " 'suis',\n",
       " 'es',\n",
       " 'est',\n",
       " 'sommes',\n",
       " 'êtes',\n",
       " 'sont',\n",
       " 'serai',\n",
       " 'seras',\n",
       " 'sera',\n",
       " 'serons',\n",
       " 'serez',\n",
       " 'seront',\n",
       " 'serais',\n",
       " 'serait',\n",
       " 'serions',\n",
       " 'seriez',\n",
       " 'seraient',\n",
       " 'étais',\n",
       " 'était',\n",
       " 'étions',\n",
       " 'étiez',\n",
       " 'étaient',\n",
       " 'fus',\n",
       " 'fut',\n",
       " 'fûmes',\n",
       " 'fûtes',\n",
       " 'furent',\n",
       " 'sois',\n",
       " 'soit',\n",
       " 'soyons',\n",
       " 'soyez',\n",
       " 'soient',\n",
       " 'fusse',\n",
       " 'fusses',\n",
       " 'fût',\n",
       " 'fussions',\n",
       " 'fussiez',\n",
       " 'fussent',\n",
       " 'ayant',\n",
       " 'ayante',\n",
       " 'ayantes',\n",
       " 'ayants',\n",
       " 'eu',\n",
       " 'eue',\n",
       " 'eues',\n",
       " 'eus',\n",
       " 'ai',\n",
       " 'as',\n",
       " 'avons',\n",
       " 'avez',\n",
       " 'ont',\n",
       " 'aurai',\n",
       " 'auras',\n",
       " 'aura',\n",
       " 'aurons',\n",
       " 'aurez',\n",
       " 'auront',\n",
       " 'aurais',\n",
       " 'aurait',\n",
       " 'aurions',\n",
       " 'auriez',\n",
       " 'auraient',\n",
       " 'avais',\n",
       " 'avait',\n",
       " 'avions',\n",
       " 'aviez',\n",
       " 'avaient',\n",
       " 'eut',\n",
       " 'eûmes',\n",
       " 'eûtes',\n",
       " 'eurent',\n",
       " 'aie',\n",
       " 'aies',\n",
       " 'ait',\n",
       " 'ayons',\n",
       " 'ayez',\n",
       " 'aient',\n",
       " 'eusse',\n",
       " 'eusses',\n",
       " 'eût',\n",
       " 'eussions',\n",
       " 'eussiez',\n",
       " 'eussent']"
      ]
     },
     "execution_count": 42,
     "metadata": {},
     "output_type": "execute_result"
    }
   ],
   "source": [
    "stopwords.words('french')"
   ]
  },
  {
   "cell_type": "code",
   "execution_count": 43,
   "id": "68409e9d",
   "metadata": {
    "execution": {
     "iopub.execute_input": "2023-08-23T08:07:27.633810Z",
     "iopub.status.busy": "2023-08-23T08:07:27.633167Z",
     "iopub.status.idle": "2023-08-23T08:07:40.480671Z",
     "shell.execute_reply": "2023-08-23T08:07:40.479542Z"
    },
    "papermill": {
     "duration": 12.883687,
     "end_time": "2023-08-23T08:07:40.483358",
     "exception": false,
     "start_time": "2023-08-23T08:07:27.599671",
     "status": "completed"
    },
    "tags": []
   },
   "outputs": [],
   "source": [
    "df['transformed_text'] = df['text'].apply(transform_text)"
   ]
  },
  {
   "cell_type": "code",
   "execution_count": 44,
   "id": "d0ff99d1",
   "metadata": {
    "execution": {
     "iopub.execute_input": "2023-08-23T08:07:40.553049Z",
     "iopub.status.busy": "2023-08-23T08:07:40.552681Z",
     "iopub.status.idle": "2023-08-23T08:07:40.565083Z",
     "shell.execute_reply": "2023-08-23T08:07:40.563971Z"
    },
    "papermill": {
     "duration": 0.048891,
     "end_time": "2023-08-23T08:07:40.567253",
     "exception": false,
     "start_time": "2023-08-23T08:07:40.518362",
     "status": "completed"
    },
    "tags": []
   },
   "outputs": [
    {
     "data": {
      "text/html": [
       "<div>\n",
       "<style scoped>\n",
       "    .dataframe tbody tr th:only-of-type {\n",
       "        vertical-align: middle;\n",
       "    }\n",
       "\n",
       "    .dataframe tbody tr th {\n",
       "        vertical-align: top;\n",
       "    }\n",
       "\n",
       "    .dataframe thead th {\n",
       "        text-align: right;\n",
       "    }\n",
       "</style>\n",
       "<table border=\"1\" class=\"dataframe\">\n",
       "  <thead>\n",
       "    <tr style=\"text-align: right;\">\n",
       "      <th></th>\n",
       "      <th>target</th>\n",
       "      <th>text</th>\n",
       "      <th>num_characters</th>\n",
       "      <th>num_words</th>\n",
       "      <th>num_sentences</th>\n",
       "      <th>transformed_text</th>\n",
       "    </tr>\n",
       "  </thead>\n",
       "  <tbody>\n",
       "    <tr>\n",
       "      <th>0</th>\n",
       "      <td>0</td>\n",
       "      <td>Go until jurong point, crazy.. Available only ...</td>\n",
       "      <td>111</td>\n",
       "      <td>23</td>\n",
       "      <td>2</td>\n",
       "      <td>go jurong point avail bugi n great world la e ...</td>\n",
       "    </tr>\n",
       "    <tr>\n",
       "      <th>1</th>\n",
       "      <td>0</td>\n",
       "      <td>Ok lar... Joking wif u oni...</td>\n",
       "      <td>29</td>\n",
       "      <td>8</td>\n",
       "      <td>2</td>\n",
       "      <td>ok lar joke wif u oni</td>\n",
       "    </tr>\n",
       "    <tr>\n",
       "      <th>2</th>\n",
       "      <td>1</td>\n",
       "      <td>Free entry in 2 a wkly comp to win FA Cup fina...</td>\n",
       "      <td>155</td>\n",
       "      <td>37</td>\n",
       "      <td>2</td>\n",
       "      <td>free entri 2 wkli comp win fa cup final tkt 21...</td>\n",
       "    </tr>\n",
       "    <tr>\n",
       "      <th>3</th>\n",
       "      <td>0</td>\n",
       "      <td>U dun say so early hor... U c already then say...</td>\n",
       "      <td>49</td>\n",
       "      <td>13</td>\n",
       "      <td>1</td>\n",
       "      <td>u dun say earli hor u c alreadi say</td>\n",
       "    </tr>\n",
       "    <tr>\n",
       "      <th>4</th>\n",
       "      <td>0</td>\n",
       "      <td>Nah I don't think he goes to usf, he lives aro...</td>\n",
       "      <td>61</td>\n",
       "      <td>15</td>\n",
       "      <td>1</td>\n",
       "      <td>nah think goe usf live around though</td>\n",
       "    </tr>\n",
       "  </tbody>\n",
       "</table>\n",
       "</div>"
      ],
      "text/plain": [
       "   target                                               text  num_characters  \\\n",
       "0       0  Go until jurong point, crazy.. Available only ...             111   \n",
       "1       0                      Ok lar... Joking wif u oni...              29   \n",
       "2       1  Free entry in 2 a wkly comp to win FA Cup fina...             155   \n",
       "3       0  U dun say so early hor... U c already then say...              49   \n",
       "4       0  Nah I don't think he goes to usf, he lives aro...              61   \n",
       "\n",
       "   num_words  num_sentences                                   transformed_text  \n",
       "0         23              2  go jurong point avail bugi n great world la e ...  \n",
       "1          8              2                              ok lar joke wif u oni  \n",
       "2         37              2  free entri 2 wkli comp win fa cup final tkt 21...  \n",
       "3         13              1                u dun say earli hor u c alreadi say  \n",
       "4         15              1               nah think goe usf live around though  "
      ]
     },
     "execution_count": 44,
     "metadata": {},
     "output_type": "execute_result"
    }
   ],
   "source": [
    "df.head()"
   ]
  },
  {
   "cell_type": "code",
   "execution_count": 45,
   "id": "4fbc0b07",
   "metadata": {
    "execution": {
     "iopub.execute_input": "2023-08-23T08:07:40.640289Z",
     "iopub.status.busy": "2023-08-23T08:07:40.639589Z",
     "iopub.status.idle": "2023-08-23T08:07:40.693359Z",
     "shell.execute_reply": "2023-08-23T08:07:40.692570Z"
    },
    "papermill": {
     "duration": 0.092602,
     "end_time": "2023-08-23T08:07:40.695632",
     "exception": false,
     "start_time": "2023-08-23T08:07:40.603030",
     "status": "completed"
    },
    "tags": []
   },
   "outputs": [],
   "source": [
    "from wordcloud import WordCloud\n",
    "wc =WordCloud(width = 500, height = 500, min_font_size=10, background_color = 'white')"
   ]
  },
  {
   "cell_type": "code",
   "execution_count": 46,
   "id": "4a8d353c",
   "metadata": {
    "execution": {
     "iopub.execute_input": "2023-08-23T08:07:40.762565Z",
     "iopub.status.busy": "2023-08-23T08:07:40.762152Z",
     "iopub.status.idle": "2023-08-23T08:07:41.236871Z",
     "shell.execute_reply": "2023-08-23T08:07:41.235982Z"
    },
    "papermill": {
     "duration": 0.51098,
     "end_time": "2023-08-23T08:07:41.239482",
     "exception": false,
     "start_time": "2023-08-23T08:07:40.728502",
     "status": "completed"
    },
    "tags": []
   },
   "outputs": [],
   "source": [
    "spam_wc = wc.generate(df[df['target'] == 1]['transformed_text'].str.cat(sep=\" \"))"
   ]
  },
  {
   "cell_type": "code",
   "execution_count": 47,
   "id": "cc7e16d6",
   "metadata": {
    "execution": {
     "iopub.execute_input": "2023-08-23T08:07:41.309830Z",
     "iopub.status.busy": "2023-08-23T08:07:41.309101Z",
     "iopub.status.idle": "2023-08-23T08:07:41.670851Z",
     "shell.execute_reply": "2023-08-23T08:07:41.670060Z"
    },
    "papermill": {
     "duration": 0.400892,
     "end_time": "2023-08-23T08:07:41.673896",
     "exception": false,
     "start_time": "2023-08-23T08:07:41.273004",
     "status": "completed"
    },
    "tags": []
   },
   "outputs": [
    {
     "data": {
      "text/plain": [
       "<matplotlib.image.AxesImage at 0x7cc1e50e70a0>"
      ]
     },
     "execution_count": 47,
     "metadata": {},
     "output_type": "execute_result"
    },
    {
     "data": {
      "image/png": "[encoded data removed]",
      "text/plain": [
       "<Figure size 640x480 with 1 Axes>"
      ]
     },
     "metadata": {},
     "output_type": "display_data"
    }
   ],
   "source": [
    "plt.imshow(spam_wc)"
   ]
  },
  {
   "cell_type": "code",
   "execution_count": 48,
   "id": "65737545",
   "metadata": {
    "execution": {
     "iopub.execute_input": "2023-08-23T08:07:41.746215Z",
     "iopub.status.busy": "2023-08-23T08:07:41.745514Z",
     "iopub.status.idle": "2023-08-23T08:07:42.684720Z",
     "shell.execute_reply": "2023-08-23T08:07:42.683651Z"
    },
    "papermill": {
     "duration": 0.978325,
     "end_time": "2023-08-23T08:07:42.687385",
     "exception": false,
     "start_time": "2023-08-23T08:07:41.709060",
     "status": "completed"
    },
    "tags": []
   },
   "outputs": [],
   "source": [
    "ham_wc = wc.generate(df[df['target'] == 0]['transformed_text'].str.cat(sep=\" \"))"
   ]
  },
  {
   "cell_type": "code",
   "execution_count": 49,
   "id": "a0f8973d",
   "metadata": {
    "execution": {
     "iopub.execute_input": "2023-08-23T08:07:42.758591Z",
     "iopub.status.busy": "2023-08-23T08:07:42.758239Z",
     "iopub.status.idle": "2023-08-23T08:07:43.190042Z",
     "shell.execute_reply": "2023-08-23T08:07:43.188969Z"
    },
    "papermill": {
     "duration": 0.46981,
     "end_time": "2023-08-23T08:07:43.192415",
     "exception": false,
     "start_time": "2023-08-23T08:07:42.722605",
     "status": "completed"
    },
    "tags": []
   },
   "outputs": [
    {
     "data": {
      "text/plain": [
       "<matplotlib.image.AxesImage at 0x7cc1e4b477c0>"
      ]
     },
     "execution_count": 49,
     "metadata": {},
     "output_type": "execute_result"
    },
    {
     "data": {
      "image/png": "[encoded data removed]",
      "text/plain": [
       "<Figure size 640x480 with 1 Axes>"
      ]
     },
     "metadata": {},
     "output_type": "display_data"
    }
   ],
   "source": [
    "plt.imshow(ham_wc)"
   ]
  },
  {
   "cell_type": "code",
   "execution_count": 50,
   "id": "3945ff29",
   "metadata": {
    "execution": {
     "iopub.execute_input": "2023-08-23T08:07:43.268143Z",
     "iopub.status.busy": "2023-08-23T08:07:43.267775Z",
     "iopub.status.idle": "2023-08-23T08:07:43.279266Z",
     "shell.execute_reply": "2023-08-23T08:07:43.278252Z"
    },
    "papermill": {
     "duration": 0.051634,
     "end_time": "2023-08-23T08:07:43.281215",
     "exception": false,
     "start_time": "2023-08-23T08:07:43.229581",
     "status": "completed"
    },
    "tags": []
   },
   "outputs": [
    {
     "data": {
      "text/html": [
       "<div>\n",
       "<style scoped>\n",
       "    .dataframe tbody tr th:only-of-type {\n",
       "        vertical-align: middle;\n",
       "    }\n",
       "\n",
       "    .dataframe tbody tr th {\n",
       "        vertical-align: top;\n",
       "    }\n",
       "\n",
       "    .dataframe thead th {\n",
       "        text-align: right;\n",
       "    }\n",
       "</style>\n",
       "<table border=\"1\" class=\"dataframe\">\n",
       "  <thead>\n",
       "    <tr style=\"text-align: right;\">\n",
       "      <th></th>\n",
       "      <th>target</th>\n",
       "      <th>text</th>\n",
       "      <th>num_characters</th>\n",
       "      <th>num_words</th>\n",
       "      <th>num_sentences</th>\n",
       "      <th>transformed_text</th>\n",
       "    </tr>\n",
       "  </thead>\n",
       "  <tbody>\n",
       "    <tr>\n",
       "      <th>0</th>\n",
       "      <td>0</td>\n",
       "      <td>Go until jurong point, crazy.. Available only ...</td>\n",
       "      <td>111</td>\n",
       "      <td>23</td>\n",
       "      <td>2</td>\n",
       "      <td>go jurong point avail bugi n great world la e ...</td>\n",
       "    </tr>\n",
       "    <tr>\n",
       "      <th>1</th>\n",
       "      <td>0</td>\n",
       "      <td>Ok lar... Joking wif u oni...</td>\n",
       "      <td>29</td>\n",
       "      <td>8</td>\n",
       "      <td>2</td>\n",
       "      <td>ok lar joke wif u oni</td>\n",
       "    </tr>\n",
       "    <tr>\n",
       "      <th>2</th>\n",
       "      <td>1</td>\n",
       "      <td>Free entry in 2 a wkly comp to win FA Cup fina...</td>\n",
       "      <td>155</td>\n",
       "      <td>37</td>\n",
       "      <td>2</td>\n",
       "      <td>free entri 2 wkli comp win fa cup final tkt 21...</td>\n",
       "    </tr>\n",
       "    <tr>\n",
       "      <th>3</th>\n",
       "      <td>0</td>\n",
       "      <td>U dun say so early hor... U c already then say...</td>\n",
       "      <td>49</td>\n",
       "      <td>13</td>\n",
       "      <td>1</td>\n",
       "      <td>u dun say earli hor u c alreadi say</td>\n",
       "    </tr>\n",
       "    <tr>\n",
       "      <th>4</th>\n",
       "      <td>0</td>\n",
       "      <td>Nah I don't think he goes to usf, he lives aro...</td>\n",
       "      <td>61</td>\n",
       "      <td>15</td>\n",
       "      <td>1</td>\n",
       "      <td>nah think goe usf live around though</td>\n",
       "    </tr>\n",
       "  </tbody>\n",
       "</table>\n",
       "</div>"
      ],
      "text/plain": [
       "   target                                               text  num_characters  \\\n",
       "0       0  Go until jurong point, crazy.. Available only ...             111   \n",
       "1       0                      Ok lar... Joking wif u oni...              29   \n",
       "2       1  Free entry in 2 a wkly comp to win FA Cup fina...             155   \n",
       "3       0  U dun say so early hor... U c already then say...              49   \n",
       "4       0  Nah I don't think he goes to usf, he lives aro...              61   \n",
       "\n",
       "   num_words  num_sentences                                   transformed_text  \n",
       "0         23              2  go jurong point avail bugi n great world la e ...  \n",
       "1          8              2                              ok lar joke wif u oni  \n",
       "2         37              2  free entri 2 wkli comp win fa cup final tkt 21...  \n",
       "3         13              1                u dun say earli hor u c alreadi say  \n",
       "4         15              1               nah think goe usf live around though  "
      ]
     },
     "execution_count": 50,
     "metadata": {},
     "output_type": "execute_result"
    }
   ],
   "source": [
    "df.head()"
   ]
  },
  {
   "cell_type": "code",
   "execution_count": 51,
   "id": "6ca915fd",
   "metadata": {
    "execution": {
     "iopub.execute_input": "2023-08-23T08:07:43.357199Z",
     "iopub.status.busy": "2023-08-23T08:07:43.356840Z",
     "iopub.status.idle": "2023-08-23T08:07:43.365375Z",
     "shell.execute_reply": "2023-08-23T08:07:43.364411Z"
    },
    "papermill": {
     "duration": 0.049221,
     "end_time": "2023-08-23T08:07:43.367388",
     "exception": false,
     "start_time": "2023-08-23T08:07:43.318167",
     "status": "completed"
    },
    "tags": []
   },
   "outputs": [],
   "source": [
    "spam_corpus = []\n",
    "for msg in df[df['target']==1]['transformed_text'].to_list():\n",
    "    for word in msg.split():\n",
    "        spam_corpus.append(word)"
   ]
  },
  {
   "cell_type": "code",
   "execution_count": 52,
   "id": "deb64706",
   "metadata": {
    "execution": {
     "iopub.execute_input": "2023-08-23T08:07:43.444245Z",
     "iopub.status.busy": "2023-08-23T08:07:43.443899Z",
     "iopub.status.idle": "2023-08-23T08:07:43.449734Z",
     "shell.execute_reply": "2023-08-23T08:07:43.448851Z"
    },
    "papermill": {
     "duration": 0.047022,
     "end_time": "2023-08-23T08:07:43.451644",
     "exception": false,
     "start_time": "2023-08-23T08:07:43.404622",
     "status": "completed"
    },
    "tags": []
   },
   "outputs": [
    {
     "data": {
      "text/plain": [
       "9883"
      ]
     },
     "execution_count": 52,
     "metadata": {},
     "output_type": "execute_result"
    }
   ],
   "source": [
    "len(spam_corpus)"
   ]
  },
  {
   "cell_type": "code",
   "execution_count": 53,
   "id": "398f46bb",
   "metadata": {
    "execution": {
     "iopub.execute_input": "2023-08-23T08:07:43.530387Z",
     "iopub.status.busy": "2023-08-23T08:07:43.530053Z",
     "iopub.status.idle": "2023-08-23T08:07:43.542455Z",
     "shell.execute_reply": "2023-08-23T08:07:43.541750Z"
    },
    "papermill": {
     "duration": 0.054512,
     "end_time": "2023-08-23T08:07:43.544347",
     "exception": false,
     "start_time": "2023-08-23T08:07:43.489835",
     "status": "completed"
    },
    "tags": []
   },
   "outputs": [
    {
     "data": {
      "text/html": [
       "<div>\n",
       "<style scoped>\n",
       "    .dataframe tbody tr th:only-of-type {\n",
       "        vertical-align: middle;\n",
       "    }\n",
       "\n",
       "    .dataframe tbody tr th {\n",
       "        vertical-align: top;\n",
       "    }\n",
       "\n",
       "    .dataframe thead th {\n",
       "        text-align: right;\n",
       "    }\n",
       "</style>\n",
       "<table border=\"1\" class=\"dataframe\">\n",
       "  <thead>\n",
       "    <tr style=\"text-align: right;\">\n",
       "      <th></th>\n",
       "      <th>0</th>\n",
       "      <th>1</th>\n",
       "    </tr>\n",
       "  </thead>\n",
       "  <tbody>\n",
       "    <tr>\n",
       "      <th>0</th>\n",
       "      <td>call</td>\n",
       "      <td>320</td>\n",
       "    </tr>\n",
       "    <tr>\n",
       "      <th>1</th>\n",
       "      <td>free</td>\n",
       "      <td>189</td>\n",
       "    </tr>\n",
       "    <tr>\n",
       "      <th>2</th>\n",
       "      <td>2</td>\n",
       "      <td>155</td>\n",
       "    </tr>\n",
       "    <tr>\n",
       "      <th>3</th>\n",
       "      <td>txt</td>\n",
       "      <td>141</td>\n",
       "    </tr>\n",
       "    <tr>\n",
       "      <th>4</th>\n",
       "      <td>text</td>\n",
       "      <td>122</td>\n",
       "    </tr>\n",
       "    <tr>\n",
       "      <th>5</th>\n",
       "      <td>u</td>\n",
       "      <td>119</td>\n",
       "    </tr>\n",
       "    <tr>\n",
       "      <th>6</th>\n",
       "      <td>ur</td>\n",
       "      <td>119</td>\n",
       "    </tr>\n",
       "    <tr>\n",
       "      <th>7</th>\n",
       "      <td>mobil</td>\n",
       "      <td>114</td>\n",
       "    </tr>\n",
       "    <tr>\n",
       "      <th>8</th>\n",
       "      <td>stop</td>\n",
       "      <td>104</td>\n",
       "    </tr>\n",
       "    <tr>\n",
       "      <th>9</th>\n",
       "      <td>repli</td>\n",
       "      <td>103</td>\n",
       "    </tr>\n",
       "    <tr>\n",
       "      <th>10</th>\n",
       "      <td>claim</td>\n",
       "      <td>98</td>\n",
       "    </tr>\n",
       "    <tr>\n",
       "      <th>11</th>\n",
       "      <td>prize</td>\n",
       "      <td>82</td>\n",
       "    </tr>\n",
       "    <tr>\n",
       "      <th>12</th>\n",
       "      <td>4</td>\n",
       "      <td>76</td>\n",
       "    </tr>\n",
       "    <tr>\n",
       "      <th>13</th>\n",
       "      <td>get</td>\n",
       "      <td>74</td>\n",
       "    </tr>\n",
       "    <tr>\n",
       "      <th>14</th>\n",
       "      <td>new</td>\n",
       "      <td>64</td>\n",
       "    </tr>\n",
       "    <tr>\n",
       "      <th>15</th>\n",
       "      <td>servic</td>\n",
       "      <td>64</td>\n",
       "    </tr>\n",
       "    <tr>\n",
       "      <th>16</th>\n",
       "      <td>tone</td>\n",
       "      <td>63</td>\n",
       "    </tr>\n",
       "    <tr>\n",
       "      <th>17</th>\n",
       "      <td>send</td>\n",
       "      <td>60</td>\n",
       "    </tr>\n",
       "    <tr>\n",
       "      <th>18</th>\n",
       "      <td>urgent</td>\n",
       "      <td>57</td>\n",
       "    </tr>\n",
       "    <tr>\n",
       "      <th>19</th>\n",
       "      <td>nokia</td>\n",
       "      <td>57</td>\n",
       "    </tr>\n",
       "    <tr>\n",
       "      <th>20</th>\n",
       "      <td>contact</td>\n",
       "      <td>56</td>\n",
       "    </tr>\n",
       "    <tr>\n",
       "      <th>21</th>\n",
       "      <td>award</td>\n",
       "      <td>55</td>\n",
       "    </tr>\n",
       "    <tr>\n",
       "      <th>22</th>\n",
       "      <td>phone</td>\n",
       "      <td>52</td>\n",
       "    </tr>\n",
       "    <tr>\n",
       "      <th>23</th>\n",
       "      <td>cash</td>\n",
       "      <td>51</td>\n",
       "    </tr>\n",
       "    <tr>\n",
       "      <th>24</th>\n",
       "      <td>pleas</td>\n",
       "      <td>50</td>\n",
       "    </tr>\n",
       "    <tr>\n",
       "      <th>25</th>\n",
       "      <td>week</td>\n",
       "      <td>49</td>\n",
       "    </tr>\n",
       "    <tr>\n",
       "      <th>26</th>\n",
       "      <td>win</td>\n",
       "      <td>48</td>\n",
       "    </tr>\n",
       "    <tr>\n",
       "      <th>27</th>\n",
       "      <td>c</td>\n",
       "      <td>45</td>\n",
       "    </tr>\n",
       "    <tr>\n",
       "      <th>28</th>\n",
       "      <td>collect</td>\n",
       "      <td>45</td>\n",
       "    </tr>\n",
       "    <tr>\n",
       "      <th>29</th>\n",
       "      <td>min</td>\n",
       "      <td>45</td>\n",
       "    </tr>\n",
       "  </tbody>\n",
       "</table>\n",
       "</div>"
      ],
      "text/plain": [
       "          0    1\n",
       "0      call  320\n",
       "1      free  189\n",
       "2         2  155\n",
       "3       txt  141\n",
       "4      text  122\n",
       "5         u  119\n",
       "6        ur  119\n",
       "7     mobil  114\n",
       "8      stop  104\n",
       "9     repli  103\n",
       "10    claim   98\n",
       "11    prize   82\n",
       "12        4   76\n",
       "13      get   74\n",
       "14      new   64\n",
       "15   servic   64\n",
       "16     tone   63\n",
       "17     send   60\n",
       "18   urgent   57\n",
       "19    nokia   57\n",
       "20  contact   56\n",
       "21    award   55\n",
       "22    phone   52\n",
       "23     cash   51\n",
       "24    pleas   50\n",
       "25     week   49\n",
       "26      win   48\n",
       "27        c   45\n",
       "28  collect   45\n",
       "29      min   45"
      ]
     },
     "execution_count": 53,
     "metadata": {},
     "output_type": "execute_result"
    }
   ],
   "source": [
    "from collections import Counter\n",
    "pd.DataFrame(Counter(spam_corpus).most_common(30))"
   ]
  },
  {
   "cell_type": "code",
   "execution_count": 54,
   "id": "add32f81",
   "metadata": {
    "execution": {
     "iopub.execute_input": "2023-08-23T08:07:43.625509Z",
     "iopub.status.busy": "2023-08-23T08:07:43.625129Z",
     "iopub.status.idle": "2023-08-23T08:07:44.116307Z",
     "shell.execute_reply": "2023-08-23T08:07:44.115514Z"
    },
    "papermill": {
     "duration": 0.534884,
     "end_time": "2023-08-23T08:07:44.118364",
     "exception": false,
     "start_time": "2023-08-23T08:07:43.583480",
     "status": "completed"
    },
    "tags": []
   },
   "outputs": [
    {
     "data": {
      "text/plain": [
       "(array([ 0,  1,  2,  3,  4,  5,  6,  7,  8,  9, 10, 11, 12, 13, 14, 15, 16,\n",
       "        17, 18, 19, 20, 21, 22, 23, 24, 25, 26, 27, 28, 29]),\n",
       " [Text(0, 0, 'call'),\n",
       "  Text(1, 0, 'free'),\n",
       "  Text(2, 0, '2'),\n",
       "  Text(3, 0, 'txt'),\n",
       "  Text(4, 0, 'text'),\n",
       "  Text(5, 0, 'u'),\n",
       "  Text(6, 0, 'ur'),\n",
       "  Text(7, 0, 'mobil'),\n",
       "  Text(8, 0, 'stop'),\n",
       "  Text(9, 0, 'repli'),\n",
       "  Text(10, 0, 'claim'),\n",
       "  Text(11, 0, 'prize'),\n",
       "  Text(12, 0, '4'),\n",
       "  Text(13, 0, 'get'),\n",
       "  Text(14, 0, 'new'),\n",
       "  Text(15, 0, 'servic'),\n",
       "  Text(16, 0, 'tone'),\n",
       "  Text(17, 0, 'send'),\n",
       "  Text(18, 0, 'urgent'),\n",
       "  Text(19, 0, 'nokia'),\n",
       "  Text(20, 0, 'contact'),\n",
       "  Text(21, 0, 'award'),\n",
       "  Text(22, 0, 'phone'),\n",
       "  Text(23, 0, 'cash'),\n",
       "  Text(24, 0, 'pleas'),\n",
       "  Text(25, 0, 'week'),\n",
       "  Text(26, 0, 'win'),\n",
       "  Text(27, 0, 'c'),\n",
       "  Text(28, 0, 'collect'),\n",
       "  Text(29, 0, 'min')])"
      ]
     },
     "execution_count": 54,
     "metadata": {},
     "output_type": "execute_result"
    },
    {
     "data": {
      "image/png": "[encoded data removed]",
      "text/plain": [
       "<Figure size 640x480 with 1 Axes>"
      ]
     },
     "metadata": {},
     "output_type": "display_data"
    }
   ],
   "source": [
    "sns.barplot(x = pd.DataFrame(Counter(spam_corpus).most_common(30))[0],y = pd.DataFrame(Counter(spam_corpus).most_common(30))[1])\n",
    "plt.xticks(rotation='vertical')"
   ]
  },
  {
   "cell_type": "code",
   "execution_count": 55,
   "id": "2f0fe4b7",
   "metadata": {
    "execution": {
     "iopub.execute_input": "2023-08-23T08:07:44.201109Z",
     "iopub.status.busy": "2023-08-23T08:07:44.200457Z",
     "iopub.status.idle": "2023-08-23T08:07:44.214106Z",
     "shell.execute_reply": "2023-08-23T08:07:44.213213Z"
    },
    "papermill": {
     "duration": 0.057488,
     "end_time": "2023-08-23T08:07:44.216088",
     "exception": false,
     "start_time": "2023-08-23T08:07:44.158600",
     "status": "completed"
    },
    "tags": []
   },
   "outputs": [],
   "source": [
    "ham_corpus=[]\n",
    "for msg in df[df['target'] == 0]['transformed_text'].to_list():\n",
    "    for word in msg.split():\n",
    "        ham_corpus.append(word)   "
   ]
  },
  {
   "cell_type": "code",
   "execution_count": 56,
   "id": "1cbafa88",
   "metadata": {
    "execution": {
     "iopub.execute_input": "2023-08-23T08:07:44.298268Z",
     "iopub.status.busy": "2023-08-23T08:07:44.297858Z",
     "iopub.status.idle": "2023-08-23T08:07:44.303804Z",
     "shell.execute_reply": "2023-08-23T08:07:44.302864Z"
    },
    "papermill": {
     "duration": 0.049716,
     "end_time": "2023-08-23T08:07:44.305858",
     "exception": false,
     "start_time": "2023-08-23T08:07:44.256142",
     "status": "completed"
    },
    "tags": []
   },
   "outputs": [
    {
     "data": {
      "text/plain": [
       "34771"
      ]
     },
     "execution_count": 56,
     "metadata": {},
     "output_type": "execute_result"
    }
   ],
   "source": [
    "len(ham_corpus)"
   ]
  },
  {
   "cell_type": "code",
   "execution_count": 57,
   "id": "e6b3c30b",
   "metadata": {
    "execution": {
     "iopub.execute_input": "2023-08-23T08:07:44.385708Z",
     "iopub.status.busy": "2023-08-23T08:07:44.385368Z",
     "iopub.status.idle": "2023-08-23T08:07:45.029538Z",
     "shell.execute_reply": "2023-08-23T08:07:45.028503Z"
    },
    "papermill": {
     "duration": 0.686418,
     "end_time": "2023-08-23T08:07:45.031732",
     "exception": false,
     "start_time": "2023-08-23T08:07:44.345314",
     "status": "completed"
    },
    "tags": []
   },
   "outputs": [
    {
     "data": {
      "text/plain": [
       "(array([ 0,  1,  2,  3,  4,  5,  6,  7,  8,  9, 10, 11, 12, 13, 14, 15, 16,\n",
       "        17, 18, 19, 20, 21, 22, 23, 24, 25, 26, 27, 28, 29]),\n",
       " [Text(0, 0, 'u'),\n",
       "  Text(1, 0, 'go'),\n",
       "  Text(2, 0, 'get'),\n",
       "  Text(3, 0, 'gt'),\n",
       "  Text(4, 0, 'lt'),\n",
       "  Text(5, 0, '2'),\n",
       "  Text(6, 0, 'come'),\n",
       "  Text(7, 0, 'got'),\n",
       "  Text(8, 0, 'like'),\n",
       "  Text(9, 0, 'know'),\n",
       "  Text(10, 0, 'call'),\n",
       "  Text(11, 0, 'time'),\n",
       "  Text(12, 0, 'good'),\n",
       "  Text(13, 0, 'want'),\n",
       "  Text(14, 0, 'ok'),\n",
       "  Text(15, 0, 'love'),\n",
       "  Text(16, 0, 'ur'),\n",
       "  Text(17, 0, 'day'),\n",
       "  Text(18, 0, 'need'),\n",
       "  Text(19, 0, 'one'),\n",
       "  Text(20, 0, '4'),\n",
       "  Text(21, 0, 'lor'),\n",
       "  Text(22, 0, 'think'),\n",
       "  Text(23, 0, 'home'),\n",
       "  Text(24, 0, 'see'),\n",
       "  Text(25, 0, 'still'),\n",
       "  Text(26, 0, 'take'),\n",
       "  Text(27, 0, 'da'),\n",
       "  Text(28, 0, 'tell'),\n",
       "  Text(29, 0, 'make')])"
      ]
     },
     "execution_count": 57,
     "metadata": {},
     "output_type": "execute_result"
    },
    {
     "data": {
      "image/png": "[encoded data removed]",
      "text/plain": [
       "<Figure size 640x480 with 1 Axes>"
      ]
     },
     "metadata": {},
     "output_type": "display_data"
    }
   ],
   "source": [
    "from collections import Counter\n",
    "sns.barplot(x = pd.DataFrame(Counter(ham_corpus).most_common(30))[0], y = pd.DataFrame(Counter(ham_corpus).most_common(30))[1])\n",
    "plt.xticks(rotation = 'vertical')"
   ]
  },
  {
   "cell_type": "code",
   "execution_count": 58,
   "id": "faa14ae5",
   "metadata": {
    "execution": {
     "iopub.execute_input": "2023-08-23T08:07:45.118386Z",
     "iopub.status.busy": "2023-08-23T08:07:45.117328Z",
     "iopub.status.idle": "2023-08-23T08:07:45.122085Z",
     "shell.execute_reply": "2023-08-23T08:07:45.121316Z"
    },
    "papermill": {
     "duration": 0.051543,
     "end_time": "2023-08-23T08:07:45.124012",
     "exception": false,
     "start_time": "2023-08-23T08:07:45.072469",
     "status": "completed"
    },
    "tags": []
   },
   "outputs": [],
   "source": [
    "from sklearn.feature_extraction.text import CountVectorizer\n",
    "cv = CountVectorizer()"
   ]
  },
  {
   "cell_type": "code",
   "execution_count": 59,
   "id": "94e1e27c",
   "metadata": {
    "execution": {
     "iopub.execute_input": "2023-08-23T08:07:45.209011Z",
     "iopub.status.busy": "2023-08-23T08:07:45.208606Z",
     "iopub.status.idle": "2023-08-23T08:07:45.370978Z",
     "shell.execute_reply": "2023-08-23T08:07:45.370049Z"
    },
    "papermill": {
     "duration": 0.207555,
     "end_time": "2023-08-23T08:07:45.373660",
     "exception": false,
     "start_time": "2023-08-23T08:07:45.166105",
     "status": "completed"
    },
    "tags": []
   },
   "outputs": [],
   "source": [
    "X = cv.fit_transform(df['transformed_text']).toarray()"
   ]
  },
  {
   "cell_type": "code",
   "execution_count": 60,
   "id": "37f0acaf",
   "metadata": {
    "execution": {
     "iopub.execute_input": "2023-08-23T08:07:45.459479Z",
     "iopub.status.busy": "2023-08-23T08:07:45.459093Z",
     "iopub.status.idle": "2023-08-23T08:07:45.467212Z",
     "shell.execute_reply": "2023-08-23T08:07:45.466114Z"
    },
    "papermill": {
     "duration": 0.052639,
     "end_time": "2023-08-23T08:07:45.469352",
     "exception": false,
     "start_time": "2023-08-23T08:07:45.416713",
     "status": "completed"
    },
    "tags": []
   },
   "outputs": [
    {
     "data": {
      "text/plain": [
       "array([[0, 0, 0, ..., 0, 0, 0],\n",
       "       [0, 0, 0, ..., 0, 0, 0],\n",
       "       [0, 0, 0, ..., 0, 0, 0],\n",
       "       ...,\n",
       "       [0, 0, 0, ..., 0, 0, 0],\n",
       "       [0, 0, 0, ..., 0, 0, 0],\n",
       "       [0, 0, 0, ..., 0, 0, 0]])"
      ]
     },
     "execution_count": 60,
     "metadata": {},
     "output_type": "execute_result"
    }
   ],
   "source": [
    "X"
   ]
  },
  {
   "cell_type": "code",
   "execution_count": 61,
   "id": "d85739a2",
   "metadata": {
    "execution": {
     "iopub.execute_input": "2023-08-23T08:07:45.554566Z",
     "iopub.status.busy": "2023-08-23T08:07:45.553650Z",
     "iopub.status.idle": "2023-08-23T08:07:45.562183Z",
     "shell.execute_reply": "2023-08-23T08:07:45.561252Z"
    },
    "papermill": {
     "duration": 0.05393,
     "end_time": "2023-08-23T08:07:45.564176",
     "exception": false,
     "start_time": "2023-08-23T08:07:45.510246",
     "status": "completed"
    },
    "tags": []
   },
   "outputs": [
    {
     "data": {
      "text/plain": [
       "(5169, 6629)"
      ]
     },
     "execution_count": 61,
     "metadata": {},
     "output_type": "execute_result"
    }
   ],
   "source": [
    "X.shape"
   ]
  },
  {
   "cell_type": "code",
   "execution_count": 62,
   "id": "63e55ce7",
   "metadata": {
    "execution": {
     "iopub.execute_input": "2023-08-23T08:07:45.646481Z",
     "iopub.status.busy": "2023-08-23T08:07:45.646099Z",
     "iopub.status.idle": "2023-08-23T08:07:45.650900Z",
     "shell.execute_reply": "2023-08-23T08:07:45.649832Z"
    },
    "papermill": {
     "duration": 0.04763,
     "end_time": "2023-08-23T08:07:45.652731",
     "exception": false,
     "start_time": "2023-08-23T08:07:45.605101",
     "status": "completed"
    },
    "tags": []
   },
   "outputs": [],
   "source": [
    "y = df['target'].values"
   ]
  },
  {
   "cell_type": "code",
   "execution_count": 63,
   "id": "3ea4b50c",
   "metadata": {
    "execution": {
     "iopub.execute_input": "2023-08-23T08:07:45.732927Z",
     "iopub.status.busy": "2023-08-23T08:07:45.732276Z",
     "iopub.status.idle": "2023-08-23T08:07:45.737815Z",
     "shell.execute_reply": "2023-08-23T08:07:45.737015Z"
    },
    "papermill": {
     "duration": 0.047668,
     "end_time": "2023-08-23T08:07:45.739631",
     "exception": false,
     "start_time": "2023-08-23T08:07:45.691963",
     "status": "completed"
    },
    "tags": []
   },
   "outputs": [
    {
     "data": {
      "text/plain": [
       "array([0, 0, 1, ..., 0, 0, 0])"
      ]
     },
     "execution_count": 63,
     "metadata": {},
     "output_type": "execute_result"
    }
   ],
   "source": [
    "y"
   ]
  },
  {
   "cell_type": "code",
   "execution_count": 64,
   "id": "54b7d961",
   "metadata": {
    "execution": {
     "iopub.execute_input": "2023-08-23T08:07:45.822361Z",
     "iopub.status.busy": "2023-08-23T08:07:45.821464Z",
     "iopub.status.idle": "2023-08-23T08:07:45.825425Z",
     "shell.execute_reply": "2023-08-23T08:07:45.824751Z"
    },
    "papermill": {
     "duration": 0.04672,
     "end_time": "2023-08-23T08:07:45.827166",
     "exception": false,
     "start_time": "2023-08-23T08:07:45.780446",
     "status": "completed"
    },
    "tags": []
   },
   "outputs": [],
   "source": [
    "from sklearn.model_selection import train_test_split"
   ]
  },
  {
   "cell_type": "code",
   "execution_count": 65,
   "id": "70ce0af3",
   "metadata": {
    "execution": {
     "iopub.execute_input": "2023-08-23T08:07:45.910325Z",
     "iopub.status.busy": "2023-08-23T08:07:45.909350Z",
     "iopub.status.idle": "2023-08-23T08:07:46.112299Z",
     "shell.execute_reply": "2023-08-23T08:07:46.111149Z"
    },
    "papermill": {
     "duration": 0.247986,
     "end_time": "2023-08-23T08:07:46.115273",
     "exception": false,
     "start_time": "2023-08-23T08:07:45.867287",
     "status": "completed"
    },
    "tags": []
   },
   "outputs": [],
   "source": [
    "X_train,X_test,y_train,y_test = train_test_split(X,y, test_size=0.2, random_state=2)"
   ]
  },
  {
   "cell_type": "code",
   "execution_count": 66,
   "id": "26e09881",
   "metadata": {
    "execution": {
     "iopub.execute_input": "2023-08-23T08:07:46.202469Z",
     "iopub.status.busy": "2023-08-23T08:07:46.202114Z",
     "iopub.status.idle": "2023-08-23T08:07:46.214260Z",
     "shell.execute_reply": "2023-08-23T08:07:46.213458Z"
    },
    "papermill": {
     "duration": 0.057286,
     "end_time": "2023-08-23T08:07:46.216418",
     "exception": false,
     "start_time": "2023-08-23T08:07:46.159132",
     "status": "completed"
    },
    "tags": []
   },
   "outputs": [],
   "source": [
    "from sklearn.naive_bayes import GaussianNB, MultinomialNB, BernoulliNB\n",
    "from sklearn.metrics import accuracy_score, confusion_matrix, precision_score"
   ]
  },
  {
   "cell_type": "code",
   "execution_count": 67,
   "id": "9e4d6f95",
   "metadata": {
    "execution": {
     "iopub.execute_input": "2023-08-23T08:07:46.299185Z",
     "iopub.status.busy": "2023-08-23T08:07:46.298696Z",
     "iopub.status.idle": "2023-08-23T08:07:46.303470Z",
     "shell.execute_reply": "2023-08-23T08:07:46.302347Z"
    },
    "papermill": {
     "duration": 0.048722,
     "end_time": "2023-08-23T08:07:46.305664",
     "exception": false,
     "start_time": "2023-08-23T08:07:46.256942",
     "status": "completed"
    },
    "tags": []
   },
   "outputs": [],
   "source": [
    "gnb = GaussianNB()\n",
    "mnb = MultinomialNB()\n",
    "bnb = BernoulliNB()"
   ]
  },
  {
   "cell_type": "code",
   "execution_count": 68,
   "id": "84581bc8",
   "metadata": {
    "execution": {
     "iopub.execute_input": "2023-08-23T08:07:46.386276Z",
     "iopub.status.busy": "2023-08-23T08:07:46.385955Z",
     "iopub.status.idle": "2023-08-23T08:07:46.999406Z",
     "shell.execute_reply": "2023-08-23T08:07:46.997571Z"
    },
    "papermill": {
     "duration": 0.657851,
     "end_time": "2023-08-23T08:07:47.003376",
     "exception": false,
     "start_time": "2023-08-23T08:07:46.345525",
     "status": "completed"
    },
    "tags": []
   },
   "outputs": [
    {
     "name": "stdout",
     "output_type": "stream",
     "text": [
      "0.874274661508704\n",
      "[[786 110]\n",
      " [ 20 118]]\n",
      "0.5175438596491229\n"
     ]
    }
   ],
   "source": [
    "gnb.fit(X_train,y_train)\n",
    "y_pred1 = gnb.predict(X_test)\n",
    "print(accuracy_score(y_test, y_pred1))\n",
    "print(confusion_matrix(y_test, y_pred1))\n",
    "print(precision_score(y_test, y_pred1))"
   ]
  },
  {
   "cell_type": "code",
   "execution_count": 69,
   "id": "20cdb148",
   "metadata": {
    "execution": {
     "iopub.execute_input": "2023-08-23T08:07:47.095711Z",
     "iopub.status.busy": "2023-08-23T08:07:47.095318Z",
     "iopub.status.idle": "2023-08-23T08:07:47.415931Z",
     "shell.execute_reply": "2023-08-23T08:07:47.414596Z"
    },
    "papermill": {
     "duration": 0.367386,
     "end_time": "2023-08-23T08:07:47.420216",
     "exception": false,
     "start_time": "2023-08-23T08:07:47.052830",
     "status": "completed"
    },
    "tags": []
   },
   "outputs": [
    {
     "name": "stdout",
     "output_type": "stream",
     "text": [
      "0.965183752417795\n",
      "[[872  24]\n",
      " [ 12 126]]\n",
      "0.84\n"
     ]
    }
   ],
   "source": [
    "mnb.fit(X_train,y_train)\n",
    "y_pred2 = mnb.predict(X_test)\n",
    "print(accuracy_score(y_test, y_pred2))\n",
    "print(confusion_matrix(y_test, y_pred2))\n",
    "print(precision_score(y_test, y_pred2))"
   ]
  },
  {
   "cell_type": "code",
   "execution_count": 70,
   "id": "fc854b65",
   "metadata": {
    "execution": {
     "iopub.execute_input": "2023-08-23T08:07:47.558502Z",
     "iopub.status.busy": "2023-08-23T08:07:47.558147Z",
     "iopub.status.idle": "2023-08-23T08:07:48.084859Z",
     "shell.execute_reply": "2023-08-23T08:07:48.083748Z"
    },
    "papermill": {
     "duration": 0.580534,
     "end_time": "2023-08-23T08:07:48.088134",
     "exception": false,
     "start_time": "2023-08-23T08:07:47.507600",
     "status": "completed"
    },
    "tags": []
   },
   "outputs": [
    {
     "name": "stdout",
     "output_type": "stream",
     "text": [
      "0.9709864603481625\n",
      "[[893   3]\n",
      " [ 27 111]]\n",
      "0.9736842105263158\n"
     ]
    }
   ],
   "source": [
    "bnb.fit(X_train,y_train)\n",
    "y_pred3 = bnb.predict(X_test)\n",
    "print(accuracy_score(y_test, y_pred3))\n",
    "print(confusion_matrix(y_test, y_pred3))\n",
    "print(precision_score(y_test, y_pred3))"
   ]
  },
  {
   "cell_type": "code",
   "execution_count": 71,
   "id": "c7415c3d",
   "metadata": {
    "execution": {
     "iopub.execute_input": "2023-08-23T08:07:48.236751Z",
     "iopub.status.busy": "2023-08-23T08:07:48.236353Z",
     "iopub.status.idle": "2023-08-23T08:07:48.241541Z",
     "shell.execute_reply": "2023-08-23T08:07:48.240366Z"
    },
    "papermill": {
     "duration": 0.056491,
     "end_time": "2023-08-23T08:07:48.243806",
     "exception": false,
     "start_time": "2023-08-23T08:07:48.187315",
     "status": "completed"
    },
    "tags": []
   },
   "outputs": [],
   "source": [
    "from sklearn.feature_extraction.text import TfidfVectorizer\n",
    "tfidf = TfidfVectorizer()"
   ]
  },
  {
   "cell_type": "code",
   "execution_count": 72,
   "id": "9ba48e4c",
   "metadata": {
    "execution": {
     "iopub.execute_input": "2023-08-23T08:07:48.334754Z",
     "iopub.status.busy": "2023-08-23T08:07:48.334389Z",
     "iopub.status.idle": "2023-08-23T08:07:48.585048Z",
     "shell.execute_reply": "2023-08-23T08:07:48.583840Z"
    },
    "papermill": {
     "duration": 0.298426,
     "end_time": "2023-08-23T08:07:48.587528",
     "exception": false,
     "start_time": "2023-08-23T08:07:48.289102",
     "status": "completed"
    },
    "tags": []
   },
   "outputs": [],
   "source": [
    "X = tfidf.fit_transform(df['transformed_text']).toarray()"
   ]
  },
  {
   "cell_type": "code",
   "execution_count": 73,
   "id": "aa389b83",
   "metadata": {
    "execution": {
     "iopub.execute_input": "2023-08-23T08:07:48.672343Z",
     "iopub.status.busy": "2023-08-23T08:07:48.671618Z",
     "iopub.status.idle": "2023-08-23T08:07:48.678274Z",
     "shell.execute_reply": "2023-08-23T08:07:48.677411Z"
    },
    "papermill": {
     "duration": 0.050787,
     "end_time": "2023-08-23T08:07:48.680150",
     "exception": false,
     "start_time": "2023-08-23T08:07:48.629363",
     "status": "completed"
    },
    "tags": []
   },
   "outputs": [
    {
     "data": {
      "text/plain": [
       "array([[0., 0., 0., ..., 0., 0., 0.],\n",
       "       [0., 0., 0., ..., 0., 0., 0.],\n",
       "       [0., 0., 0., ..., 0., 0., 0.],\n",
       "       ...,\n",
       "       [0., 0., 0., ..., 0., 0., 0.],\n",
       "       [0., 0., 0., ..., 0., 0., 0.],\n",
       "       [0., 0., 0., ..., 0., 0., 0.]])"
      ]
     },
     "execution_count": 73,
     "metadata": {},
     "output_type": "execute_result"
    }
   ],
   "source": [
    "X"
   ]
  },
  {
   "cell_type": "code",
   "execution_count": 74,
   "id": "1daa0c0a",
   "metadata": {
    "execution": {
     "iopub.execute_input": "2023-08-23T08:07:48.761337Z",
     "iopub.status.busy": "2023-08-23T08:07:48.760732Z",
     "iopub.status.idle": "2023-08-23T08:07:48.768963Z",
     "shell.execute_reply": "2023-08-23T08:07:48.768090Z"
    },
    "papermill": {
     "duration": 0.051064,
     "end_time": "2023-08-23T08:07:48.770754",
     "exception": false,
     "start_time": "2023-08-23T08:07:48.719690",
     "status": "completed"
    },
    "tags": []
   },
   "outputs": [
    {
     "data": {
      "text/plain": [
       "0       0\n",
       "1       0\n",
       "2       1\n",
       "3       0\n",
       "4       0\n",
       "       ..\n",
       "5567    1\n",
       "5568    0\n",
       "5569    0\n",
       "5570    0\n",
       "5571    0\n",
       "Name: target, Length: 5169, dtype: int64"
      ]
     },
     "execution_count": 74,
     "metadata": {},
     "output_type": "execute_result"
    }
   ],
   "source": [
    "y = df['target']\n",
    "y"
   ]
  },
  {
   "cell_type": "code",
   "execution_count": 75,
   "id": "a155fba4",
   "metadata": {
    "execution": {
     "iopub.execute_input": "2023-08-23T08:07:48.853263Z",
     "iopub.status.busy": "2023-08-23T08:07:48.852911Z",
     "iopub.status.idle": "2023-08-23T08:07:48.857683Z",
     "shell.execute_reply": "2023-08-23T08:07:48.856864Z"
    },
    "papermill": {
     "duration": 0.048649,
     "end_time": "2023-08-23T08:07:48.859815",
     "exception": false,
     "start_time": "2023-08-23T08:07:48.811166",
     "status": "completed"
    },
    "tags": []
   },
   "outputs": [],
   "source": [
    "from sklearn.naive_bayes import GaussianNB, MultinomialNB, BernoulliNB\n",
    "from sklearn.model_selection import train_test_split\n",
    "from sklearn.metrics import accuracy_score, confusion_matrix, precision_score"
   ]
  },
  {
   "cell_type": "code",
   "execution_count": 76,
   "id": "cdd70c47",
   "metadata": {
    "execution": {
     "iopub.execute_input": "2023-08-23T08:07:48.946159Z",
     "iopub.status.busy": "2023-08-23T08:07:48.945806Z",
     "iopub.status.idle": "2023-08-23T08:07:48.950529Z",
     "shell.execute_reply": "2023-08-23T08:07:48.949538Z"
    },
    "papermill": {
     "duration": 0.049239,
     "end_time": "2023-08-23T08:07:48.952714",
     "exception": false,
     "start_time": "2023-08-23T08:07:48.903475",
     "status": "completed"
    },
    "tags": []
   },
   "outputs": [],
   "source": [
    "gnb = GaussianNB()\n",
    "mnb = MultinomialNB()\n",
    "bnb = BernoulliNB()"
   ]
  },
  {
   "cell_type": "code",
   "execution_count": 77,
   "id": "a9d444f0",
   "metadata": {
    "execution": {
     "iopub.execute_input": "2023-08-23T08:07:49.035949Z",
     "iopub.status.busy": "2023-08-23T08:07:49.035352Z",
     "iopub.status.idle": "2023-08-23T08:07:49.178432Z",
     "shell.execute_reply": "2023-08-23T08:07:49.177176Z"
    },
    "papermill": {
     "duration": 0.187538,
     "end_time": "2023-08-23T08:07:49.180915",
     "exception": false,
     "start_time": "2023-08-23T08:07:48.993377",
     "status": "completed"
    },
    "tags": []
   },
   "outputs": [],
   "source": [
    "X_train, X_test, y_train, y_test = train_test_split(X,y, test_size=0.2, random_state=25)"
   ]
  },
  {
   "cell_type": "code",
   "execution_count": 78,
   "id": "a73bc14f",
   "metadata": {
    "execution": {
     "iopub.execute_input": "2023-08-23T08:07:49.267650Z",
     "iopub.status.busy": "2023-08-23T08:07:49.267252Z",
     "iopub.status.idle": "2023-08-23T08:07:49.744204Z",
     "shell.execute_reply": "2023-08-23T08:07:49.743091Z"
    },
    "papermill": {
     "duration": 0.522859,
     "end_time": "2023-08-23T08:07:49.746730",
     "exception": false,
     "start_time": "2023-08-23T08:07:49.223871",
     "status": "completed"
    },
    "tags": []
   },
   "outputs": [
    {
     "name": "stdout",
     "output_type": "stream",
     "text": [
      "0.8578336557059961\n",
      "[[774 120]\n",
      " [ 27 113]]\n",
      "0.48497854077253216\n"
     ]
    }
   ],
   "source": [
    "gnb.fit(X_train, y_train)\n",
    "y_predi1 = gnb.predict(X_test)\n",
    "print(accuracy_score(y_test, y_predi1))\n",
    "print(confusion_matrix(y_test, y_predi1))\n",
    "print(precision_score(y_test,y_predi1))"
   ]
  },
  {
   "cell_type": "code",
   "execution_count": 79,
   "id": "ee54944b",
   "metadata": {
    "execution": {
     "iopub.execute_input": "2023-08-23T08:07:49.831758Z",
     "iopub.status.busy": "2023-08-23T08:07:49.831173Z",
     "iopub.status.idle": "2023-08-23T08:07:49.936306Z",
     "shell.execute_reply": "2023-08-23T08:07:49.934682Z"
    },
    "papermill": {
     "duration": 0.152639,
     "end_time": "2023-08-23T08:07:49.940873",
     "exception": false,
     "start_time": "2023-08-23T08:07:49.788234",
     "status": "completed"
    },
    "tags": []
   },
   "outputs": [
    {
     "name": "stdout",
     "output_type": "stream",
     "text": [
      "0.9497098646034816\n",
      "[[894   0]\n",
      " [ 52  88]]\n",
      "1.0\n"
     ]
    }
   ],
   "source": [
    "mnb.fit(X_train, y_train)\n",
    "y_predi2 = mnb.predict(X_test)\n",
    "print(accuracy_score(y_test, y_predi2))\n",
    "print(confusion_matrix(y_test, y_predi2))\n",
    "print(precision_score(y_test,y_predi2))"
   ]
  },
  {
   "cell_type": "code",
   "execution_count": 80,
   "id": "5319b384",
   "metadata": {
    "execution": {
     "iopub.execute_input": "2023-08-23T08:07:50.081520Z",
     "iopub.status.busy": "2023-08-23T08:07:50.081144Z",
     "iopub.status.idle": "2023-08-23T08:07:50.424271Z",
     "shell.execute_reply": "2023-08-23T08:07:50.422877Z"
    },
    "papermill": {
     "duration": 0.399082,
     "end_time": "2023-08-23T08:07:50.428246",
     "exception": false,
     "start_time": "2023-08-23T08:07:50.029164",
     "status": "completed"
    },
    "tags": []
   },
   "outputs": [
    {
     "name": "stdout",
     "output_type": "stream",
     "text": [
      "0.965183752417795\n",
      "[[890   4]\n",
      " [ 32 108]]\n",
      "0.9642857142857143\n"
     ]
    }
   ],
   "source": [
    "bnb.fit(X_train, y_train)\n",
    "y_predi3 = bnb.predict(X_test)\n",
    "print(accuracy_score(y_test, y_predi3))\n",
    "print(confusion_matrix(y_test, y_predi3))\n",
    "print(precision_score(y_test,y_predi3))"
   ]
  },
  {
   "cell_type": "code",
   "execution_count": 81,
   "id": "12ab72da",
   "metadata": {
    "execution": {
     "iopub.execute_input": "2023-08-23T08:07:50.570050Z",
     "iopub.status.busy": "2023-08-23T08:07:50.569621Z",
     "iopub.status.idle": "2023-08-23T08:07:50.968945Z",
     "shell.execute_reply": "2023-08-23T08:07:50.967827Z"
    },
    "papermill": {
     "duration": 0.453328,
     "end_time": "2023-08-23T08:07:50.971294",
     "exception": false,
     "start_time": "2023-08-23T08:07:50.517966",
     "status": "completed"
    },
    "tags": []
   },
   "outputs": [],
   "source": [
    "from sklearn.linear_model import LogisticRegression\n",
    "from sklearn.svm import SVC\n",
    "from sklearn.naive_bayes import MultinomialNB\n",
    "from sklearn.tree import DecisionTreeClassifier\n",
    "from sklearn.neighbors import KNeighborsClassifier\n",
    "from sklearn.ensemble import RandomForestClassifier\n",
    "from sklearn.ensemble import AdaBoostClassifier\n",
    "from sklearn.ensemble import GradientBoostingClassifier\n",
    "from sklearn.ensemble import BaggingClassifier\n",
    "from sklearn.ensemble import ExtraTreesClassifier\n",
    "from sklearn.ensemble import HistGradientBoostingClassifier\n",
    "from sklearn.ensemble import StackingClassifier\n",
    "from sklearn.ensemble import VotingClassifier\n",
    "from xgboost import XGBClassifier\n",
    "from xgboost import XGBRFClassifier"
   ]
  },
  {
   "cell_type": "code",
   "execution_count": 82,
   "id": "a703c29a",
   "metadata": {
    "execution": {
     "iopub.execute_input": "2023-08-23T08:07:51.054815Z",
     "iopub.status.busy": "2023-08-23T08:07:51.053730Z",
     "iopub.status.idle": "2023-08-23T08:07:51.061112Z",
     "shell.execute_reply": "2023-08-23T08:07:51.060456Z"
    },
    "papermill": {
     "duration": 0.050942,
     "end_time": "2023-08-23T08:07:51.062823",
     "exception": false,
     "start_time": "2023-08-23T08:07:51.011881",
     "status": "completed"
    },
    "tags": []
   },
   "outputs": [],
   "source": [
    "lrc = LogisticRegression(solver = 'liblinear', penalty = 'l1')\n",
    "svc = SVC(kernel='sigmoid', gamma = 1.0)\n",
    "mnb = MultinomialNB()\n",
    "dtc = DecisionTreeClassifier(max_depth=5)\n",
    "knn = KNeighborsClassifier()\n",
    "rfc = RandomForestClassifier(n_estimators=50, random_state=2)\n",
    "ada = AdaBoostClassifier(n_estimators=50, random_state=2)\n",
    "gbc = GradientBoostingClassifier(n_estimators=50, random_state=2)\n",
    "bc = BaggingClassifier(n_estimators=50, random_state=2)\n",
    "etc = ExtraTreesClassifier(n_estimators=50, random_state=2)\n",
    "hgc = HistGradientBoostingClassifier(max_depth=5, random_state=2)\n",
    "xgb = XGBClassifier(n_estimators=50,random_state=2)\n",
    "xgbrf = XGBRFClassifier(n_estimators=50, random_state=2)"
   ]
  },
  {
   "cell_type": "code",
   "execution_count": 83,
   "id": "72d091a1",
   "metadata": {
    "execution": {
     "iopub.execute_input": "2023-08-23T08:07:51.147304Z",
     "iopub.status.busy": "2023-08-23T08:07:51.146260Z",
     "iopub.status.idle": "2023-08-23T08:07:51.151749Z",
     "shell.execute_reply": "2023-08-23T08:07:51.150986Z"
    },
    "papermill": {
     "duration": 0.05114,
     "end_time": "2023-08-23T08:07:51.154132",
     "exception": false,
     "start_time": "2023-08-23T08:07:51.102992",
     "status": "completed"
    },
    "tags": []
   },
   "outputs": [],
   "source": [
    "clfs = {\n",
    "    'LRC':lrc,\n",
    "    'SVC':svc,\n",
    "    'MNB': mnb,\n",
    "    'DTC':dtc,\n",
    "    'KNN':knn,\n",
    "    'RFC':rfc,\n",
    "    'ADA':ada,\n",
    "    'GBC':gbc,\n",
    "    'BC':bc,\n",
    "    'ETC':etc,\n",
    "    'HGC':hgc,\n",
    "    'XGB':xgb,\n",
    "    'XGBRF':xgbrf\n",
    "}"
   ]
  },
  {
   "cell_type": "code",
   "execution_count": 84,
   "id": "0564203b",
   "metadata": {
    "execution": {
     "iopub.execute_input": "2023-08-23T08:07:51.240179Z",
     "iopub.status.busy": "2023-08-23T08:07:51.239242Z",
     "iopub.status.idle": "2023-08-23T08:07:51.245024Z",
     "shell.execute_reply": "2023-08-23T08:07:51.243948Z"
    },
    "papermill": {
     "duration": 0.051097,
     "end_time": "2023-08-23T08:07:51.246976",
     "exception": false,
     "start_time": "2023-08-23T08:07:51.195879",
     "status": "completed"
    },
    "tags": []
   },
   "outputs": [],
   "source": [
    "def train_classifier(clf,X_train,y_train,X_test,y_test):\n",
    "    clf.fit(X_train,y_train)\n",
    "    y_pred = clf.predict(X_test)\n",
    "    accuracy = accuracy_score(y_test, y_pred)\n",
    "    precision = precision_score(y_test,y_pred)\n",
    "    return accuracy, precision"
   ]
  },
  {
   "cell_type": "code",
   "execution_count": 85,
   "id": "bc08a204",
   "metadata": {
    "execution": {
     "iopub.execute_input": "2023-08-23T08:07:51.337555Z",
     "iopub.status.busy": "2023-08-23T08:07:51.336658Z",
     "iopub.status.idle": "2023-08-23T08:13:11.014960Z",
     "shell.execute_reply": "2023-08-23T08:13:11.014031Z"
    },
    "papermill": {
     "duration": 319.768208,
     "end_time": "2023-08-23T08:13:11.058967",
     "exception": false,
     "start_time": "2023-08-23T08:07:51.290759",
     "status": "completed"
    },
    "tags": []
   },
   "outputs": [
    {
     "name": "stdout",
     "output_type": "stream",
     "text": [
      "For  LRC\n",
      "Accuracy -  0.941972920696325\n",
      "Precision -  0.9081632653061225\n",
      "For  SVC\n",
      "Accuracy -  0.9680851063829787\n",
      "Precision -  0.9572649572649573\n",
      "For  MNB\n",
      "Accuracy -  0.9497098646034816\n",
      "Precision -  1.0\n",
      "For  DTC\n",
      "Accuracy -  0.9332688588007737\n",
      "Precision -  0.8817204301075269\n",
      "For  KNN\n",
      "Accuracy -  0.8974854932301741\n",
      "Precision -  1.0\n",
      "For  RFC\n",
      "Accuracy -  0.9661508704061895\n",
      "Precision -  1.0\n",
      "For  ADA\n",
      "Accuracy -  0.9545454545454546\n",
      "Precision -  0.9345794392523364\n",
      "For  GBC\n",
      "Accuracy -  0.9458413926499033\n",
      "Precision -  0.9772727272727273\n",
      "For  BC\n",
      "Accuracy -  0.9622823984526112\n",
      "Precision -  0.9243697478991597\n",
      "For  ETC\n",
      "Accuracy -  0.9700193423597679\n",
      "Precision -  1.0\n",
      "For  HGC\n",
      "Accuracy -  0.9700193423597679\n",
      "Precision -  0.990990990990991\n",
      "For  XGB\n",
      "Accuracy -  0.9700193423597679\n",
      "Precision -  0.9823008849557522\n",
      "For  XGBRF\n",
      "Accuracy -  0.941972920696325\n",
      "Precision -  0.8921568627450981\n"
     ]
    }
   ],
   "source": [
    "accuracy_scores = []\n",
    "precision_scores = []\n",
    "\n",
    "for name,clf in clfs.items():\n",
    "    current_accuracy, current_precision = train_classifier(clf,X_train,y_train,X_test,y_test)\n",
    "    \n",
    "    print('For ', name)\n",
    "    print('Accuracy - ', current_accuracy)\n",
    "    print('Precision - ', current_precision)\n",
    "    \n",
    "    accuracy_scores.append(current_accuracy)\n",
    "    precision_scores.append(current_precision)"
   ]
  },
  {
   "cell_type": "code",
   "execution_count": 86,
   "id": "9c27ec2b",
   "metadata": {
    "execution": {
     "iopub.execute_input": "2023-08-23T08:13:11.150979Z",
     "iopub.status.busy": "2023-08-23T08:13:11.150585Z",
     "iopub.status.idle": "2023-08-23T08:13:11.167768Z",
     "shell.execute_reply": "2023-08-23T08:13:11.166610Z"
    },
    "papermill": {
     "duration": 0.066272,
     "end_time": "2023-08-23T08:13:11.169919",
     "exception": false,
     "start_time": "2023-08-23T08:13:11.103647",
     "status": "completed"
    },
    "tags": []
   },
   "outputs": [
    {
     "data": {
      "text/html": [
       "<div>\n",
       "<style scoped>\n",
       "    .dataframe tbody tr th:only-of-type {\n",
       "        vertical-align: middle;\n",
       "    }\n",
       "\n",
       "    .dataframe tbody tr th {\n",
       "        vertical-align: top;\n",
       "    }\n",
       "\n",
       "    .dataframe thead th {\n",
       "        text-align: right;\n",
       "    }\n",
       "</style>\n",
       "<table border=\"1\" class=\"dataframe\">\n",
       "  <thead>\n",
       "    <tr style=\"text-align: right;\">\n",
       "      <th></th>\n",
       "      <th>Algorithm</th>\n",
       "      <th>Accuracy</th>\n",
       "      <th>Precision</th>\n",
       "    </tr>\n",
       "  </thead>\n",
       "  <tbody>\n",
       "    <tr>\n",
       "      <th>9</th>\n",
       "      <td>ETC</td>\n",
       "      <td>0.970019</td>\n",
       "      <td>1.000000</td>\n",
       "    </tr>\n",
       "    <tr>\n",
       "      <th>5</th>\n",
       "      <td>RFC</td>\n",
       "      <td>0.966151</td>\n",
       "      <td>1.000000</td>\n",
       "    </tr>\n",
       "    <tr>\n",
       "      <th>2</th>\n",
       "      <td>MNB</td>\n",
       "      <td>0.949710</td>\n",
       "      <td>1.000000</td>\n",
       "    </tr>\n",
       "    <tr>\n",
       "      <th>4</th>\n",
       "      <td>KNN</td>\n",
       "      <td>0.897485</td>\n",
       "      <td>1.000000</td>\n",
       "    </tr>\n",
       "    <tr>\n",
       "      <th>10</th>\n",
       "      <td>HGC</td>\n",
       "      <td>0.970019</td>\n",
       "      <td>0.990991</td>\n",
       "    </tr>\n",
       "    <tr>\n",
       "      <th>11</th>\n",
       "      <td>XGB</td>\n",
       "      <td>0.970019</td>\n",
       "      <td>0.982301</td>\n",
       "    </tr>\n",
       "    <tr>\n",
       "      <th>7</th>\n",
       "      <td>GBC</td>\n",
       "      <td>0.945841</td>\n",
       "      <td>0.977273</td>\n",
       "    </tr>\n",
       "    <tr>\n",
       "      <th>1</th>\n",
       "      <td>SVC</td>\n",
       "      <td>0.968085</td>\n",
       "      <td>0.957265</td>\n",
       "    </tr>\n",
       "    <tr>\n",
       "      <th>6</th>\n",
       "      <td>ADA</td>\n",
       "      <td>0.954545</td>\n",
       "      <td>0.934579</td>\n",
       "    </tr>\n",
       "    <tr>\n",
       "      <th>8</th>\n",
       "      <td>BC</td>\n",
       "      <td>0.962282</td>\n",
       "      <td>0.924370</td>\n",
       "    </tr>\n",
       "    <tr>\n",
       "      <th>0</th>\n",
       "      <td>LRC</td>\n",
       "      <td>0.941973</td>\n",
       "      <td>0.908163</td>\n",
       "    </tr>\n",
       "    <tr>\n",
       "      <th>12</th>\n",
       "      <td>XGBRF</td>\n",
       "      <td>0.941973</td>\n",
       "      <td>0.892157</td>\n",
       "    </tr>\n",
       "    <tr>\n",
       "      <th>3</th>\n",
       "      <td>DTC</td>\n",
       "      <td>0.933269</td>\n",
       "      <td>0.881720</td>\n",
       "    </tr>\n",
       "  </tbody>\n",
       "</table>\n",
       "</div>"
      ],
      "text/plain": [
       "   Algorithm  Accuracy  Precision\n",
       "9        ETC  0.970019   1.000000\n",
       "5        RFC  0.966151   1.000000\n",
       "2        MNB  0.949710   1.000000\n",
       "4        KNN  0.897485   1.000000\n",
       "10       HGC  0.970019   0.990991\n",
       "11       XGB  0.970019   0.982301\n",
       "7        GBC  0.945841   0.977273\n",
       "1        SVC  0.968085   0.957265\n",
       "6        ADA  0.954545   0.934579\n",
       "8         BC  0.962282   0.924370\n",
       "0        LRC  0.941973   0.908163\n",
       "12     XGBRF  0.941973   0.892157\n",
       "3        DTC  0.933269   0.881720"
      ]
     },
     "execution_count": 86,
     "metadata": {},
     "output_type": "execute_result"
    }
   ],
   "source": [
    "performance_df = pd.DataFrame({'Algorithm':clfs.keys(), 'Accuracy':accuracy_scores, \n",
    "                               'Precision':precision_scores}).sort_values(['Precision','Accuracy'], ascending=False)\n",
    "performance_df"
   ]
  },
  {
   "cell_type": "code",
   "execution_count": 87,
   "id": "19c64c94",
   "metadata": {
    "execution": {
     "iopub.execute_input": "2023-08-23T08:13:11.255760Z",
     "iopub.status.busy": "2023-08-23T08:13:11.255396Z",
     "iopub.status.idle": "2023-08-23T08:13:11.270454Z",
     "shell.execute_reply": "2023-08-23T08:13:11.269486Z"
    },
    "papermill": {
     "duration": 0.060122,
     "end_time": "2023-08-23T08:13:11.272548",
     "exception": false,
     "start_time": "2023-08-23T08:13:11.212426",
     "status": "completed"
    },
    "tags": []
   },
   "outputs": [
    {
     "data": {
      "text/html": [
       "<div>\n",
       "<style scoped>\n",
       "    .dataframe tbody tr th:only-of-type {\n",
       "        vertical-align: middle;\n",
       "    }\n",
       "\n",
       "    .dataframe tbody tr th {\n",
       "        vertical-align: top;\n",
       "    }\n",
       "\n",
       "    .dataframe thead th {\n",
       "        text-align: right;\n",
       "    }\n",
       "</style>\n",
       "<table border=\"1\" class=\"dataframe\">\n",
       "  <thead>\n",
       "    <tr style=\"text-align: right;\">\n",
       "      <th></th>\n",
       "      <th>Algorithm</th>\n",
       "      <th>variable</th>\n",
       "      <th>value</th>\n",
       "    </tr>\n",
       "  </thead>\n",
       "  <tbody>\n",
       "    <tr>\n",
       "      <th>0</th>\n",
       "      <td>ETC</td>\n",
       "      <td>Accuracy</td>\n",
       "      <td>0.970019</td>\n",
       "    </tr>\n",
       "    <tr>\n",
       "      <th>1</th>\n",
       "      <td>RFC</td>\n",
       "      <td>Accuracy</td>\n",
       "      <td>0.966151</td>\n",
       "    </tr>\n",
       "    <tr>\n",
       "      <th>2</th>\n",
       "      <td>MNB</td>\n",
       "      <td>Accuracy</td>\n",
       "      <td>0.949710</td>\n",
       "    </tr>\n",
       "    <tr>\n",
       "      <th>3</th>\n",
       "      <td>KNN</td>\n",
       "      <td>Accuracy</td>\n",
       "      <td>0.897485</td>\n",
       "    </tr>\n",
       "    <tr>\n",
       "      <th>4</th>\n",
       "      <td>HGC</td>\n",
       "      <td>Accuracy</td>\n",
       "      <td>0.970019</td>\n",
       "    </tr>\n",
       "    <tr>\n",
       "      <th>5</th>\n",
       "      <td>XGB</td>\n",
       "      <td>Accuracy</td>\n",
       "      <td>0.970019</td>\n",
       "    </tr>\n",
       "    <tr>\n",
       "      <th>6</th>\n",
       "      <td>GBC</td>\n",
       "      <td>Accuracy</td>\n",
       "      <td>0.945841</td>\n",
       "    </tr>\n",
       "    <tr>\n",
       "      <th>7</th>\n",
       "      <td>SVC</td>\n",
       "      <td>Accuracy</td>\n",
       "      <td>0.968085</td>\n",
       "    </tr>\n",
       "    <tr>\n",
       "      <th>8</th>\n",
       "      <td>ADA</td>\n",
       "      <td>Accuracy</td>\n",
       "      <td>0.954545</td>\n",
       "    </tr>\n",
       "    <tr>\n",
       "      <th>9</th>\n",
       "      <td>BC</td>\n",
       "      <td>Accuracy</td>\n",
       "      <td>0.962282</td>\n",
       "    </tr>\n",
       "    <tr>\n",
       "      <th>10</th>\n",
       "      <td>LRC</td>\n",
       "      <td>Accuracy</td>\n",
       "      <td>0.941973</td>\n",
       "    </tr>\n",
       "    <tr>\n",
       "      <th>11</th>\n",
       "      <td>XGBRF</td>\n",
       "      <td>Accuracy</td>\n",
       "      <td>0.941973</td>\n",
       "    </tr>\n",
       "    <tr>\n",
       "      <th>12</th>\n",
       "      <td>DTC</td>\n",
       "      <td>Accuracy</td>\n",
       "      <td>0.933269</td>\n",
       "    </tr>\n",
       "    <tr>\n",
       "      <th>13</th>\n",
       "      <td>ETC</td>\n",
       "      <td>Precision</td>\n",
       "      <td>1.000000</td>\n",
       "    </tr>\n",
       "    <tr>\n",
       "      <th>14</th>\n",
       "      <td>RFC</td>\n",
       "      <td>Precision</td>\n",
       "      <td>1.000000</td>\n",
       "    </tr>\n",
       "    <tr>\n",
       "      <th>15</th>\n",
       "      <td>MNB</td>\n",
       "      <td>Precision</td>\n",
       "      <td>1.000000</td>\n",
       "    </tr>\n",
       "    <tr>\n",
       "      <th>16</th>\n",
       "      <td>KNN</td>\n",
       "      <td>Precision</td>\n",
       "      <td>1.000000</td>\n",
       "    </tr>\n",
       "    <tr>\n",
       "      <th>17</th>\n",
       "      <td>HGC</td>\n",
       "      <td>Precision</td>\n",
       "      <td>0.990991</td>\n",
       "    </tr>\n",
       "    <tr>\n",
       "      <th>18</th>\n",
       "      <td>XGB</td>\n",
       "      <td>Precision</td>\n",
       "      <td>0.982301</td>\n",
       "    </tr>\n",
       "    <tr>\n",
       "      <th>19</th>\n",
       "      <td>GBC</td>\n",
       "      <td>Precision</td>\n",
       "      <td>0.977273</td>\n",
       "    </tr>\n",
       "    <tr>\n",
       "      <th>20</th>\n",
       "      <td>SVC</td>\n",
       "      <td>Precision</td>\n",
       "      <td>0.957265</td>\n",
       "    </tr>\n",
       "    <tr>\n",
       "      <th>21</th>\n",
       "      <td>ADA</td>\n",
       "      <td>Precision</td>\n",
       "      <td>0.934579</td>\n",
       "    </tr>\n",
       "    <tr>\n",
       "      <th>22</th>\n",
       "      <td>BC</td>\n",
       "      <td>Precision</td>\n",
       "      <td>0.924370</td>\n",
       "    </tr>\n",
       "    <tr>\n",
       "      <th>23</th>\n",
       "      <td>LRC</td>\n",
       "      <td>Precision</td>\n",
       "      <td>0.908163</td>\n",
       "    </tr>\n",
       "    <tr>\n",
       "      <th>24</th>\n",
       "      <td>XGBRF</td>\n",
       "      <td>Precision</td>\n",
       "      <td>0.892157</td>\n",
       "    </tr>\n",
       "    <tr>\n",
       "      <th>25</th>\n",
       "      <td>DTC</td>\n",
       "      <td>Precision</td>\n",
       "      <td>0.881720</td>\n",
       "    </tr>\n",
       "  </tbody>\n",
       "</table>\n",
       "</div>"
      ],
      "text/plain": [
       "   Algorithm   variable     value\n",
       "0        ETC   Accuracy  0.970019\n",
       "1        RFC   Accuracy  0.966151\n",
       "2        MNB   Accuracy  0.949710\n",
       "3        KNN   Accuracy  0.897485\n",
       "4        HGC   Accuracy  0.970019\n",
       "5        XGB   Accuracy  0.970019\n",
       "6        GBC   Accuracy  0.945841\n",
       "7        SVC   Accuracy  0.968085\n",
       "8        ADA   Accuracy  0.954545\n",
       "9         BC   Accuracy  0.962282\n",
       "10       LRC   Accuracy  0.941973\n",
       "11     XGBRF   Accuracy  0.941973\n",
       "12       DTC   Accuracy  0.933269\n",
       "13       ETC  Precision  1.000000\n",
       "14       RFC  Precision  1.000000\n",
       "15       MNB  Precision  1.000000\n",
       "16       KNN  Precision  1.000000\n",
       "17       HGC  Precision  0.990991\n",
       "18       XGB  Precision  0.982301\n",
       "19       GBC  Precision  0.977273\n",
       "20       SVC  Precision  0.957265\n",
       "21       ADA  Precision  0.934579\n",
       "22        BC  Precision  0.924370\n",
       "23       LRC  Precision  0.908163\n",
       "24     XGBRF  Precision  0.892157\n",
       "25       DTC  Precision  0.881720"
      ]
     },
     "execution_count": 87,
     "metadata": {},
     "output_type": "execute_result"
    }
   ],
   "source": [
    "performance_df1 = pd.melt(performance_df, id_vars='Algorithm')\n",
    "performance_df1"
   ]
  },
  {
   "cell_type": "code",
   "execution_count": 88,
   "id": "f650f9b8",
   "metadata": {
    "execution": {
     "iopub.execute_input": "2023-08-23T08:13:11.361712Z",
     "iopub.status.busy": "2023-08-23T08:13:11.361365Z",
     "iopub.status.idle": "2023-08-23T08:13:11.940544Z",
     "shell.execute_reply": "2023-08-23T08:13:11.939517Z"
    },
    "papermill": {
     "duration": 0.625992,
     "end_time": "2023-08-23T08:13:11.942812",
     "exception": false,
     "start_time": "2023-08-23T08:13:11.316820",
     "status": "completed"
    },
    "tags": []
   },
   "outputs": [
    {
     "name": "stderr",
     "output_type": "stream",
     "text": [
      "/opt/conda/lib/python3.10/site-packages/seaborn/axisgrid.py:118: UserWarning: The figure layout has changed to tight\n",
      "  self._figure.tight_layout(*args, **kwargs)\n"
     ]
    },
    {
     "data": {
      "image/png": "[encoded data removed]",
      "text/plain": [
       "<Figure size 613.5x500 with 1 Axes>"
      ]
     },
     "metadata": {},
     "output_type": "display_data"
    }
   ],
   "source": [
    "sns.catplot(x = 'Algorithm', y = 'value', hue='variable', data = performance_df1, kind='bar',height=5)\n",
    "plt.xticks(rotation= 45)\n",
    "plt.show()"
   ]
  },
  {
   "cell_type": "code",
   "execution_count": 89,
   "id": "a1dbb213",
   "metadata": {
    "execution": {
     "iopub.execute_input": "2023-08-23T08:13:12.036557Z",
     "iopub.status.busy": "2023-08-23T08:13:12.036181Z",
     "iopub.status.idle": "2023-08-23T08:13:12.040463Z",
     "shell.execute_reply": "2023-08-23T08:13:12.039453Z"
    },
    "papermill": {
     "duration": 0.052902,
     "end_time": "2023-08-23T08:13:12.042372",
     "exception": false,
     "start_time": "2023-08-23T08:13:11.989470",
     "status": "completed"
    },
    "tags": []
   },
   "outputs": [],
   "source": [
    "from sklearn.ensemble import StackingClassifier"
   ]
  },
  {
   "cell_type": "code",
   "execution_count": 90,
   "id": "a5a37bac",
   "metadata": {
    "execution": {
     "iopub.execute_input": "2023-08-23T08:13:12.134152Z",
     "iopub.status.busy": "2023-08-23T08:13:12.132992Z",
     "iopub.status.idle": "2023-08-23T08:13:12.138052Z",
     "shell.execute_reply": "2023-08-23T08:13:12.137319Z"
    },
    "papermill": {
     "duration": 0.051714,
     "end_time": "2023-08-23T08:13:12.139850",
     "exception": false,
     "start_time": "2023-08-23T08:13:12.088136",
     "status": "completed"
    },
    "tags": []
   },
   "outputs": [],
   "source": [
    "estimators=[('svm', svc), ('nb', mnb), ('et', etc)]\n",
    "final_estimator=RandomForestClassifier()"
   ]
  },
  {
   "cell_type": "code",
   "execution_count": 91,
   "id": "dd612f7f",
   "metadata": {
    "execution": {
     "iopub.execute_input": "2023-08-23T08:13:12.226596Z",
     "iopub.status.busy": "2023-08-23T08:13:12.225966Z",
     "iopub.status.idle": "2023-08-23T08:16:13.460216Z",
     "shell.execute_reply": "2023-08-23T08:16:13.458807Z"
    },
    "papermill": {
     "duration": 181.324617,
     "end_time": "2023-08-23T08:16:13.507321",
     "exception": false,
     "start_time": "2023-08-23T08:13:12.182704",
     "status": "completed"
    },
    "tags": []
   },
   "outputs": [
    {
     "name": "stdout",
     "output_type": "stream",
     "text": [
      "Accuracy 0.9777562862669246\n",
      "Precision 0.9606299212598425\n"
     ]
    }
   ],
   "source": [
    "sc = StackingClassifier(estimators=estimators, final_estimator=final_estimator)\n",
    "sc.fit(X_train,y_train)\n",
    "y_pred = sc.predict(X_test)\n",
    "print('Accuracy', accuracy_score(y_test,y_pred))\n",
    "print('Precision', precision_score(y_test,y_pred))"
   ]
  },
  {
   "cell_type": "code",
   "execution_count": 92,
   "id": "9cb8ad96",
   "metadata": {
    "execution": {
     "iopub.execute_input": "2023-08-23T08:16:13.656120Z",
     "iopub.status.busy": "2023-08-23T08:16:13.655487Z",
     "iopub.status.idle": "2023-08-23T08:16:13.660198Z",
     "shell.execute_reply": "2023-08-23T08:16:13.659516Z"
    },
    "papermill": {
     "duration": 0.053589,
     "end_time": "2023-08-23T08:16:13.662066",
     "exception": false,
     "start_time": "2023-08-23T08:16:13.608477",
     "status": "completed"
    },
    "tags": []
   },
   "outputs": [],
   "source": [
    "# Voting Classifier\n",
    "svc = SVC(kernel='sigmoid', gamma=1.0,probability=True)\n",
    "mnb = MultinomialNB()\n",
    "etc = ExtraTreesClassifier(n_estimators=50, random_state=2)\n",
    "\n",
    "from sklearn.ensemble import VotingClassifier"
   ]
  },
  {
   "cell_type": "code",
   "execution_count": 93,
   "id": "bcb590ba",
   "metadata": {
    "execution": {
     "iopub.execute_input": "2023-08-23T08:16:13.752986Z",
     "iopub.status.busy": "2023-08-23T08:16:13.752332Z",
     "iopub.status.idle": "2023-08-23T08:16:13.756543Z",
     "shell.execute_reply": "2023-08-23T08:16:13.755916Z"
    },
    "papermill": {
     "duration": 0.052507,
     "end_time": "2023-08-23T08:16:13.758453",
     "exception": false,
     "start_time": "2023-08-23T08:16:13.705946",
     "status": "completed"
    },
    "tags": []
   },
   "outputs": [],
   "source": [
    "voting = VotingClassifier(estimators=[('svm', svc), ('nb', mnb), ('et', etc)],voting='soft')"
   ]
  },
  {
   "cell_type": "code",
   "execution_count": 94,
   "id": "949541fd",
   "metadata": {
    "execution": {
     "iopub.execute_input": "2023-08-23T08:16:13.853861Z",
     "iopub.status.busy": "2023-08-23T08:16:13.853241Z",
     "iopub.status.idle": "2023-08-23T08:18:01.998888Z",
     "shell.execute_reply": "2023-08-23T08:18:01.997828Z"
    },
    "papermill": {
     "duration": 108.241892,
     "end_time": "2023-08-23T08:18:02.046231",
     "exception": false,
     "start_time": "2023-08-23T08:16:13.804339",
     "status": "completed"
    },
    "tags": []
   },
   "outputs": [
    {
     "data": {
      "text/html": [
       "<style>#sk-container-id-1 {color: black;background-color: white;}#sk-container-id-1 pre{padding: 0;}#sk-container-id-1 div.sk-toggleable {background-color: white;}#sk-container-id-1 label.sk-toggleable__label {cursor: pointer;display: block;width: 100%;margin-bottom: 0;padding: 0.3em;box-sizing: border-box;text-align: center;}#sk-container-id-1 label.sk-toggleable__label-arrow:before {content: \"▸\";float: left;margin-right: 0.25em;color: #696969;}#sk-container-id-1 label.sk-toggleable__label-arrow:hover:before {color: black;}#sk-container-id-1 div.sk-estimator:hover label.sk-toggleable__label-arrow:before {color: black;}#sk-container-id-1 div.sk-toggleable__content {max-height: 0;max-width: 0;overflow: hidden;text-align: left;background-color: #f0f8ff;}#sk-container-id-1 div.sk-toggleable__content pre {margin: 0.2em;color: black;border-radius: 0.25em;background-color: #f0f8ff;}#sk-container-id-1 input.sk-toggleable__control:checked~div.sk-toggleable__content {max-height: 200px;max-width: 100%;overflow: auto;}#sk-container-id-1 input.sk-toggleable__control:checked~label.sk-toggleable__label-arrow:before {content: \"▾\";}#sk-container-id-1 div.sk-estimator input.sk-toggleable__control:checked~label.sk-toggleable__label {background-color: #d4ebff;}#sk-container-id-1 div.sk-label input.sk-toggleable__control:checked~label.sk-toggleable__label {background-color: #d4ebff;}#sk-container-id-1 input.sk-hidden--visually {border: 0;clip: rect(1px 1px 1px 1px);clip: rect(1px, 1px, 1px, 1px);height: 1px;margin: -1px;overflow: hidden;padding: 0;position: absolute;width: 1px;}#sk-container-id-1 div.sk-estimator {font-family: monospace;background-color: #f0f8ff;border: 1px dotted black;border-radius: 0.25em;box-sizing: border-box;margin-bottom: 0.5em;}#sk-container-id-1 div.sk-estimator:hover {background-color: #d4ebff;}#sk-container-id-1 div.sk-parallel-item::after {content: \"\";width: 100%;border-bottom: 1px solid gray;flex-grow: 1;}#sk-container-id-1 div.sk-label:hover label.sk-toggleable__label {background-color: #d4ebff;}#sk-container-id-1 div.sk-serial::before {content: \"\";position: absolute;border-left: 1px solid gray;box-sizing: border-box;top: 0;bottom: 0;left: 50%;z-index: 0;}#sk-container-id-1 div.sk-serial {display: flex;flex-direction: column;align-items: center;background-color: white;padding-right: 0.2em;padding-left: 0.2em;position: relative;}#sk-container-id-1 div.sk-item {position: relative;z-index: 1;}#sk-container-id-1 div.sk-parallel {display: flex;align-items: stretch;justify-content: center;background-color: white;position: relative;}#sk-container-id-1 div.sk-item::before, #sk-container-id-1 div.sk-parallel-item::before {content: \"\";position: absolute;border-left: 1px solid gray;box-sizing: border-box;top: 0;bottom: 0;left: 50%;z-index: -1;}#sk-container-id-1 div.sk-parallel-item {display: flex;flex-direction: column;z-index: 1;position: relative;background-color: white;}#sk-container-id-1 div.sk-parallel-item:first-child::after {align-self: flex-end;width: 50%;}#sk-container-id-1 div.sk-parallel-item:last-child::after {align-self: flex-start;width: 50%;}#sk-container-id-1 div.sk-parallel-item:only-child::after {width: 0;}#sk-container-id-1 div.sk-dashed-wrapped {border: 1px dashed gray;margin: 0 0.4em 0.5em 0.4em;box-sizing: border-box;padding-bottom: 0.4em;background-color: white;}#sk-container-id-1 div.sk-label label {font-family: monospace;font-weight: bold;display: inline-block;line-height: 1.2em;}#sk-container-id-1 div.sk-label-container {text-align: center;}#sk-container-id-1 div.sk-container {/* jupyter's `normalize.less` sets `[hidden] { display: none; }` but bootstrap.min.css set `[hidden] { display: none !important; }` so we also need the `!important` here to be able to override the default hidden behavior on the sphinx rendered scikit-learn.org. See: https://github.com/scikit-learn/scikit-learn/issues/21755 */display: inline-block !important;position: relative;}#sk-container-id-1 div.sk-text-repr-fallback {display: none;}</style><div id=\"sk-container-id-1\" class=\"sk-top-container\"><div class=\"sk-text-repr-fallback\"><pre>VotingClassifier(estimators=[(&#x27;svm&#x27;,\n",
       "                              SVC(gamma=1.0, kernel=&#x27;sigmoid&#x27;,\n",
       "                                  probability=True)),\n",
       "                             (&#x27;nb&#x27;, MultinomialNB()),\n",
       "                             (&#x27;et&#x27;,\n",
       "                              ExtraTreesClassifier(n_estimators=50,\n",
       "                                                   random_state=2))],\n",
       "                 voting=&#x27;soft&#x27;)</pre><b>In a Jupyter environment, please rerun this cell to show the HTML representation or trust the notebook. <br />On GitHub, the HTML representation is unable to render, please try loading this page with nbviewer.org.</b></div><div class=\"sk-container\" hidden><div class=\"sk-item sk-dashed-wrapped\"><div class=\"sk-label-container\"><div class=\"sk-label sk-toggleable\"><input class=\"sk-toggleable__control sk-hidden--visually\" id=\"sk-estimator-id-1\" type=\"checkbox\" ><label for=\"sk-estimator-id-1\" class=\"sk-toggleable__label sk-toggleable__label-arrow\">VotingClassifier</label><div class=\"sk-toggleable__content\"><pre>VotingClassifier(estimators=[(&#x27;svm&#x27;,\n",
       "                              SVC(gamma=1.0, kernel=&#x27;sigmoid&#x27;,\n",
       "                                  probability=True)),\n",
       "                             (&#x27;nb&#x27;, MultinomialNB()),\n",
       "                             (&#x27;et&#x27;,\n",
       "                              ExtraTreesClassifier(n_estimators=50,\n",
       "                                                   random_state=2))],\n",
       "                 voting=&#x27;soft&#x27;)</pre></div></div></div><div class=\"sk-parallel\"><div class=\"sk-parallel-item\"><div class=\"sk-item\"><div class=\"sk-label-container\"><div class=\"sk-label sk-toggleable\"><label>svm</label></div></div><div class=\"sk-serial\"><div class=\"sk-item\"><div class=\"sk-estimator sk-toggleable\"><input class=\"sk-toggleable__control sk-hidden--visually\" id=\"sk-estimator-id-2\" type=\"checkbox\" ><label for=\"sk-estimator-id-2\" class=\"sk-toggleable__label sk-toggleable__label-arrow\">SVC</label><div class=\"sk-toggleable__content\"><pre>SVC(gamma=1.0, kernel=&#x27;sigmoid&#x27;, probability=True)</pre></div></div></div></div></div></div><div class=\"sk-parallel-item\"><div class=\"sk-item\"><div class=\"sk-label-container\"><div class=\"sk-label sk-toggleable\"><label>nb</label></div></div><div class=\"sk-serial\"><div class=\"sk-item\"><div class=\"sk-estimator sk-toggleable\"><input class=\"sk-toggleable__control sk-hidden--visually\" id=\"sk-estimator-id-3\" type=\"checkbox\" ><label for=\"sk-estimator-id-3\" class=\"sk-toggleable__label sk-toggleable__label-arrow\">MultinomialNB</label><div class=\"sk-toggleable__content\"><pre>MultinomialNB()</pre></div></div></div></div></div></div><div class=\"sk-parallel-item\"><div class=\"sk-item\"><div class=\"sk-label-container\"><div class=\"sk-label sk-toggleable\"><label>et</label></div></div><div class=\"sk-serial\"><div class=\"sk-item\"><div class=\"sk-estimator sk-toggleable\"><input class=\"sk-toggleable__control sk-hidden--visually\" id=\"sk-estimator-id-4\" type=\"checkbox\" ><label for=\"sk-estimator-id-4\" class=\"sk-toggleable__label sk-toggleable__label-arrow\">ExtraTreesClassifier</label><div class=\"sk-toggleable__content\"><pre>ExtraTreesClassifier(n_estimators=50, random_state=2)</pre></div></div></div></div></div></div></div></div></div></div>"
      ],
      "text/plain": [
       "VotingClassifier(estimators=[('svm',\n",
       "                              SVC(gamma=1.0, kernel='sigmoid',\n",
       "                                  probability=True)),\n",
       "                             ('nb', MultinomialNB()),\n",
       "                             ('et',\n",
       "                              ExtraTreesClassifier(n_estimators=50,\n",
       "                                                   random_state=2))],\n",
       "                 voting='soft')"
      ]
     },
     "execution_count": 94,
     "metadata": {},
     "output_type": "execute_result"
    }
   ],
   "source": [
    "voting.fit(X_train,y_train)"
   ]
  },
  {
   "cell_type": "code",
   "execution_count": 95,
   "id": "034077b8",
   "metadata": {
    "execution": {
     "iopub.execute_input": "2023-08-23T08:18:02.135532Z",
     "iopub.status.busy": "2023-08-23T08:18:02.135175Z",
     "iopub.status.idle": "2023-08-23T08:18:05.475174Z",
     "shell.execute_reply": "2023-08-23T08:18:05.473745Z"
    },
    "papermill": {
     "duration": 3.387265,
     "end_time": "2023-08-23T08:18:05.477483",
     "exception": false,
     "start_time": "2023-08-23T08:18:02.090218",
     "status": "completed"
    },
    "tags": []
   },
   "outputs": [
    {
     "name": "stdout",
     "output_type": "stream",
     "text": [
      "Accuracy 0.9758220502901354\n",
      "Precision 0.9914529914529915\n"
     ]
    }
   ],
   "source": [
    "y_pred = voting.predict(X_test)\n",
    "print(\"Accuracy\",accuracy_score(y_test,y_pred))\n",
    "print(\"Precision\",precision_score(y_test,y_pred))"
   ]
  },
  {
   "cell_type": "code",
   "execution_count": null,
   "id": "3cd13f24",
   "metadata": {
    "papermill": {
     "duration": 0.044493,
     "end_time": "2023-08-23T08:18:05.567894",
     "exception": false,
     "start_time": "2023-08-23T08:18:05.523401",
     "status": "completed"
    },
    "tags": []
   },
   "outputs": [],
   "source": []
  }
 ],
 "metadata": {
  "kernelspec": {
   "display_name": "Python 3",
   "language": "python",
   "name": "python3"
  },
  "language_info": {
   "codemirror_mode": {
    "name": "ipython",
    "version": 3
   },
   "file_extension": ".py",
   "mimetype": "text/x-python",
   "name": "python",
   "nbconvert_exporter": "python",
   "pygments_lexer": "ipython3",
   "version": "3.10.12"
  },
  "papermill": {
   "default_parameters": {},
   "duration": 687.374529,
   "end_time": "2023-08-23T08:18:06.639974",
   "environment_variables": {},
   "exception": null,
   "input_path": "__notebook__.ipynb",
   "output_path": "__notebook__.ipynb",
   "parameters": {},
   "start_time": "2023-08-23T08:06:39.265445",
   "version": "2.4.0"
  }
 },
 "nbformat": 4,
 "nbformat_minor": 5
}
